{
 "cells": [
  {
   "cell_type": "markdown",
   "metadata": {
    "slideshow": {
     "slide_type": "slide"
    }
   },
   "source": [
    "## Introduction to bandit problems and algorithms"
   ]
  },
  {
   "cell_type": "code",
   "execution_count": 27,
   "metadata": {
    "scrolled": false
   },
   "outputs": [],
   "source": [
    "%matplotlib inline\n",
    "from matplotlib.pyplot import *\n",
    "import matplotlib.pyplot as plt\n",
    "from math import *\n",
    "from numpy import *\n",
    "import numpy as np\n",
    "from numpy.random import *\n",
    "from scipy.misc import *\n",
    "from scipy.stats import *\n",
    "\n",
    "from typing import Optional"
   ]
  },
  {
   "cell_type": "markdown",
   "metadata": {},
   "source": [
    "In the sequel we consider the stochastic bandit problem with only two actions $0$ and $1$. We assume that their rewards are Bernoulli random variables with parameters $\\mu_0 = 0.6$ and $\\mu_1 = 0.4$ (so that action $0$ is optimal, but we have to learn it from experience!).\n",
    "\n",
    "### Simulation of Bernoulli random variables:"
   ]
  },
  {
   "cell_type": "code",
   "execution_count": 4,
   "metadata": {},
   "outputs": [
    {
     "data": {
      "text/plain": [
       "array([5, 4, 5, 6, 3, 6, 5, 6, 3, 3, 7, 6, 3, 8, 4, 6, 3, 6, 8, 2, 7, 5,\n",
       "       6, 5, 6, 4, 5, 4, 6, 9, 6, 5, 5, 3, 6, 5, 4, 2, 4, 6, 5, 9, 6, 5,\n",
       "       1, 4])"
      ]
     },
     "execution_count": 4,
     "metadata": {},
     "output_type": "execute_result"
    }
   ],
   "source": [
    "binomial(n=10, p=0.5, size=46)"
   ]
  },
  {
   "cell_type": "code",
   "execution_count": 6,
   "metadata": {},
   "outputs": [
    {
     "data": {
      "text/plain": [
       "array([0, 0, 0, 1, 0])"
      ]
     },
     "execution_count": 6,
     "metadata": {},
     "output_type": "execute_result"
    }
   ],
   "source": [
    "binomial(n=1, p=0.5, size=5)"
   ]
  },
  {
   "cell_type": "markdown",
   "metadata": {},
   "source": [
    "### Notation:\n",
    "- The arm played by the algorithm at time $t$ is denoted by $I_t$.\n",
    "- The reward of arm $a$ at time $t$ is $g_t(a)$.\n",
    "- We write $\\hat{\\mu}_t(a)$ for the average of the rewards obtained from arm $a \\in \\{0,1\\}$ between iterations $1$ and $t$.\n",
    "- We also write $T_a(t)$ for the number of times arm $a$ was played up to iteration $t$.\n",
    "- In particular, we have\n",
    "$$\\hat{\\mu}_t(a) = \\frac{1}{T_a(t)} \\sum_{k=1}^t g_k(a) \\mathbb{1}_{I_k = a}$$"
   ]
  },
  {
   "cell_type": "markdown",
   "metadata": {},
   "source": [
    "## Why stopping exploring is a bad idea if we do not know the time horizon.\n",
    "\n",
    "The \"Explore-Then-Commit\" algorithm proceeds as follows:\n",
    "- alternatively play actions $0$ and $1$ from iteration $t=1$ up to iteration $t=\\tau$\n",
    "- determine the empirically best arm\n",
    "$$A \\in \\rm{argmax}_{a \\in \\{0,1\\}} \\hat{\\mu}_{\\tau}(a)$$\n",
    "- play arm A forever.\n",
    "\n",
    "Questions: Understand the code below and\n",
    "1. Show that, if $\\tau$ is fixed, then the (expected) regret after $T$ rounds grows linearly with $T$ when $T \\to +\\infty$ (which is very bad). Explain the title of this section.\n",
    "2. Compare the above conclusion with the theoretical result stating that the regret is only logarithmic in $T$ provided $m$ is chosen roughly like $m \\approx \\log(T \\Delta^2)/\\Delta^2$, where $\\Delta = |\\mu_0 - \\mu_1|$.\n",
    "3. Try different values for the parameters $m$, $\\mu_0$, and $\\mu_1$. Interpret the results in terms of exploration/exploitation."
   ]
  },
  {
   "cell_type": "code",
   "execution_count": 17,
   "metadata": {},
   "outputs": [
    {
     "data": {
      "text/plain": [
       "[<matplotlib.lines.Line2D at 0x15a23edd0>]"
      ]
     },
     "execution_count": 17,
     "metadata": {},
     "output_type": "execute_result"
    },
    {
     "data": {
      "image/png": "[encoded data removed]",
      "text/plain": [
       "<Figure size 432x288 with 1 Axes>"
      ]
     },
     "metadata": {
      "needs_background": "light"
     },
     "output_type": "display_data"
    }
   ],
   "source": [
    "m = 50\n",
    "tau = 2*m # size of exploration phase\n",
    "T = 10**4  # total number of rounds\n",
    "MC = 200    # number of Monte-Carlo experiments\n",
    "mu = [0.6,0.4]\n",
    "# Try also:\n",
    "#mu = [0.8,0.2]\n",
    "#mu = [0.51,0.49]\n",
    "mustar = max(mu)\n",
    "avregret = zeros(T)  # will contain an estimate of the (expected) regret R_t for all t<=T\n",
    "\n",
    "for experiment in range(MC):\n",
    "    regret = 0\n",
    "    muhat = [0,0] # after exploration phase, will contain estimates of expected rewards of arms 0 and 1\n",
    "    # exploration phase\n",
    "    for t in range(tau):\n",
    "        A = t % 2 # we choose 0 or 1 alternatively\n",
    "        r = binomial(1, mu[A]) # observed reward\n",
    "        muhat[A] += r/m\n",
    "        regret += mustar - r\n",
    "        avregret[t] += regret/MC # updates the estimate of the expected regret at time t\n",
    "    # exploitation phase: play best arm forever\n",
    "    A = argmax(muhat)\n",
    "    for t in range(tau, T):\n",
    "        r = binomial(1,mu[A]) # observed reward\n",
    "        regret += mustar - r\n",
    "        avregret[t] += regret/MC # update the estimate of the (expected) regret at time t\n",
    "    \n",
    "plt.plot(avregret)\n",
    "# T_lin = np.linspace(0, T, num=50)\n",
    "# Delta = np.max(mu) - np.min(mu)\n",
    "# plt.plot(T_lin, np.log(T_lin*Delta**2)/(Delta))"
   ]
  },
  {
   "cell_type": "code",
   "execution_count": 37,
   "metadata": {},
   "outputs": [],
   "source": [
    "def run_ECM(\n",
    "        m: int = 50,\n",
    "        mu: list[float] = [0.6, 0.4],\n",
    "        T: int = 10**4,                 # total number of rounds\n",
    "        MC: int = 200,                  # number of Monte-Carlo experiments\n",
    "    ) -> np.ndarray :\n",
    "\n",
    "\n",
    "    tau = 2*m # size of exploration phase\n",
    "\n",
    "    mustar = np.max(mu)\n",
    "    avregret = np.zeros(T)  # will contain an estimate of the (expected) regret R_t for all t<=T\n",
    "\n",
    "    for experiment in range(MC):\n",
    "        regret = 0\n",
    "        muhat = [0,0] # after exploration phase, will contain estimates of expected rewards of arms 0 and 1\n",
    "        # exploration phase\n",
    "        for t in range(tau):\n",
    "            A = t % 2 # we choose 0 or 1 alternatively\n",
    "            r = binomial(1, mu[A]) # observed reward\n",
    "            muhat[A] += r/m\n",
    "            regret += mustar - r\n",
    "            avregret[t] += regret/MC # updates the estimate of the expected regret at time t\n",
    "        # exploitation phase: play best arm forever\n",
    "        A = argmax(muhat)\n",
    "        for t in range(tau, T):\n",
    "            r = binomial(1,mu[A]) # observed reward\n",
    "            regret += mustar - r\n",
    "            avregret[t] += regret/MC # update the estimate of the (expected) regret at time t \n",
    "\n",
    "    return avregret\n",
    "\n",
    "\n",
    "def ECM_plot(m: int = 50,\n",
    "        mu: list[float] = [0.6, 0.4],\n",
    "        T: int = 10**4,                 # total number of rounds\n",
    "        MC: int = 200,                  # number of Monte-Carlo experiments\n",
    "        ax: Optional[plt.Axes] = None\n",
    "    ) -> list[plt.Line2D]:\n",
    "\n",
    "    if ax is None:\n",
    "        ax = plt.gca()\n",
    "\n",
    "    avregret = run_ECM(m = 50, mu = [0.6, 0.4], T = 10**4, MC = 200)\n",
    "\n",
    "    line = ax.plot(np.arange(avregret.size), avregret)\n",
    "    return line"
   ]
  },
  {
   "cell_type": "markdown",
   "metadata": {},
   "source": [
    "Pour $\\mu = [0.6, 0.4]$, pour la première partie de la courbe on est en politique 50% sur chaque machine (mu), donc on moyenne on prend ..."
   ]
  },
  {
   "cell_type": "code",
   "execution_count": 32,
   "metadata": {},
   "outputs": [
    {
     "data": {
      "text/plain": [
       "array([1.0000e-02, 2.1500e-01, 2.0500e-01, ..., 3.2245e+01, 3.2210e+01,\n",
       "       3.2290e+01])"
      ]
     },
     "execution_count": 32,
     "metadata": {},
     "output_type": "execute_result"
    },
    {
     "data": {
      "image/png": "[encoded data removed]",
      "text/plain": [
       "<Figure size 432x288 with 1 Axes>"
      ]
     },
     "metadata": {
      "needs_background": "light"
     },
     "output_type": "display_data"
    }
   ],
   "source": [
    "run_ECM(m=50, mu=[0.6, 0.4])"
   ]
  },
  {
   "cell_type": "code",
   "execution_count": 31,
   "metadata": {},
   "outputs": [
    {
     "data": {
      "text/plain": [
       "array([1.00000e-02, 2.65000e-01, 2.15000e-01, ..., 4.03030e+02,\n",
       "       4.03060e+02, 4.03055e+02])"
      ]
     },
     "execution_count": 31,
     "metadata": {},
     "output_type": "execute_result"
    },
    {
     "data": {
      "image/png": "[encoded data removed]",
      "text/plain": [
       "<Figure size 432x288 with 1 Axes>"
      ]
     },
     "metadata": {
      "needs_background": "light"
     },
     "output_type": "display_data"
    }
   ],
   "source": [
    "run_ECM(m=2_000, mu=[0.6, 0.4])"
   ]
  },
  {
   "cell_type": "code",
   "execution_count": 40,
   "metadata": {},
   "outputs": [
    {
     "ename": "ValueError",
     "evalue": "cannot find widget or abbreviation for argument: 'val'",
     "output_type": "error",
     "traceback": [
      "\u001b[0;31m---------------------------------------------------------------------------\u001b[0m",
      "\u001b[0;31mValueError\u001b[0m                                Traceback (most recent call last)",
      "\u001b[1;32m/Users/julienblanchon/Git/Projet-ML/tp_bandits/intro-bandits-enonce.ipynb Cell 13'\u001b[0m in \u001b[0;36m<cell line: 29>\u001b[0;34m()\u001b[0m\n\u001b[1;32m     <a href='vscode-notebook-cell:/Users/julienblanchon/Git/Projet-ML/tp_bandits/intro-bandits-enonce.ipynb#ch0000020?line=25'>26</a>\u001b[0m m_slide\u001b[39m.\u001b[39mon_changed(update)\n\u001b[1;32m     <a href='vscode-notebook-cell:/Users/julienblanchon/Git/Projet-ML/tp_bandits/intro-bandits-enonce.ipynb#ch0000020?line=26'>27</a>\u001b[0m MC_slide\u001b[39m.\u001b[39mon_changed(update)\n\u001b[0;32m---> <a href='vscode-notebook-cell:/Users/julienblanchon/Git/Projet-ML/tp_bandits/intro-bandits-enonce.ipynb#ch0000020?line=28'>29</a>\u001b[0m interact(update)\n",
      "File \u001b[0;32m/opt/homebrew/Caskroom/miniforge/base/envs/ml-librosa/lib/python3.10/site-packages/ipywidgets/widgets/interaction.py:529\u001b[0m, in \u001b[0;36m_InteractFactory.__call__\u001b[0;34m(self, _InteractFactory__interact_f, **kwargs)\u001b[0m\n\u001b[1;32m    <a href='file:///opt/homebrew/Caskroom/miniforge/base/envs/ml-librosa/lib/python3.10/site-packages/ipywidgets/widgets/interaction.py?line=520'>521</a>\u001b[0m     \u001b[39mreturn\u001b[39;00m \u001b[39mself\u001b[39m\n\u001b[1;32m    <a href='file:///opt/homebrew/Caskroom/miniforge/base/envs/ml-librosa/lib/python3.10/site-packages/ipywidgets/widgets/interaction.py?line=522'>523</a>\u001b[0m \u001b[39m# positional arg support in: https://gist.github.com/8851331\u001b[39;00m\n\u001b[1;32m    <a href='file:///opt/homebrew/Caskroom/miniforge/base/envs/ml-librosa/lib/python3.10/site-packages/ipywidgets/widgets/interaction.py?line=523'>524</a>\u001b[0m \u001b[39m# Handle the cases 1 and 2\u001b[39;00m\n\u001b[1;32m    <a href='file:///opt/homebrew/Caskroom/miniforge/base/envs/ml-librosa/lib/python3.10/site-packages/ipywidgets/widgets/interaction.py?line=524'>525</a>\u001b[0m \u001b[39m# 1. interact(f, **kwargs)\u001b[39;00m\n\u001b[1;32m    <a href='file:///opt/homebrew/Caskroom/miniforge/base/envs/ml-librosa/lib/python3.10/site-packages/ipywidgets/widgets/interaction.py?line=525'>526</a>\u001b[0m \u001b[39m# 2. @interact\u001b[39;00m\n\u001b[1;32m    <a href='file:///opt/homebrew/Caskroom/miniforge/base/envs/ml-librosa/lib/python3.10/site-packages/ipywidgets/widgets/interaction.py?line=526'>527</a>\u001b[0m \u001b[39m#    def f(*args, **kwargs):\u001b[39;00m\n\u001b[1;32m    <a href='file:///opt/homebrew/Caskroom/miniforge/base/envs/ml-librosa/lib/python3.10/site-packages/ipywidgets/widgets/interaction.py?line=527'>528</a>\u001b[0m \u001b[39m#        ...\u001b[39;00m\n\u001b[0;32m--> <a href='file:///opt/homebrew/Caskroom/miniforge/base/envs/ml-librosa/lib/python3.10/site-packages/ipywidgets/widgets/interaction.py?line=528'>529</a>\u001b[0m w \u001b[39m=\u001b[39m \u001b[39mself\u001b[39;49m\u001b[39m.\u001b[39;49mwidget(f)\n\u001b[1;32m    <a href='file:///opt/homebrew/Caskroom/miniforge/base/envs/ml-librosa/lib/python3.10/site-packages/ipywidgets/widgets/interaction.py?line=529'>530</a>\u001b[0m \u001b[39mtry\u001b[39;00m:\n\u001b[1;32m    <a href='file:///opt/homebrew/Caskroom/miniforge/base/envs/ml-librosa/lib/python3.10/site-packages/ipywidgets/widgets/interaction.py?line=530'>531</a>\u001b[0m     f\u001b[39m.\u001b[39mwidget \u001b[39m=\u001b[39m w\n",
      "File \u001b[0;32m/opt/homebrew/Caskroom/miniforge/base/envs/ml-librosa/lib/python3.10/site-packages/ipywidgets/widgets/interaction.py:445\u001b[0m, in \u001b[0;36m_InteractFactory.widget\u001b[0;34m(self, f)\u001b[0m\n\u001b[1;32m    <a href='file:///opt/homebrew/Caskroom/miniforge/base/envs/ml-librosa/lib/python3.10/site-packages/ipywidgets/widgets/interaction.py?line=428'>429</a>\u001b[0m \u001b[39mdef\u001b[39;00m \u001b[39mwidget\u001b[39m(\u001b[39mself\u001b[39m, f):\n\u001b[1;32m    <a href='file:///opt/homebrew/Caskroom/miniforge/base/envs/ml-librosa/lib/python3.10/site-packages/ipywidgets/widgets/interaction.py?line=429'>430</a>\u001b[0m     \u001b[39m\"\"\"\u001b[39;00m\n\u001b[1;32m    <a href='file:///opt/homebrew/Caskroom/miniforge/base/envs/ml-librosa/lib/python3.10/site-packages/ipywidgets/widgets/interaction.py?line=430'>431</a>\u001b[0m \u001b[39m    Return an interactive function widget for the given function.\u001b[39;00m\n\u001b[1;32m    <a href='file:///opt/homebrew/Caskroom/miniforge/base/envs/ml-librosa/lib/python3.10/site-packages/ipywidgets/widgets/interaction.py?line=431'>432</a>\u001b[0m \n\u001b[0;32m   (...)\u001b[0m\n\u001b[1;32m    <a href='file:///opt/homebrew/Caskroom/miniforge/base/envs/ml-librosa/lib/python3.10/site-packages/ipywidgets/widgets/interaction.py?line=442'>443</a>\u001b[0m \u001b[39m        The function to which the interactive widgets are tied.\u001b[39;00m\n\u001b[1;32m    <a href='file:///opt/homebrew/Caskroom/miniforge/base/envs/ml-librosa/lib/python3.10/site-packages/ipywidgets/widgets/interaction.py?line=443'>444</a>\u001b[0m \u001b[39m    \"\"\"\u001b[39;00m\n\u001b[0;32m--> <a href='file:///opt/homebrew/Caskroom/miniforge/base/envs/ml-librosa/lib/python3.10/site-packages/ipywidgets/widgets/interaction.py?line=444'>445</a>\u001b[0m     \u001b[39mreturn\u001b[39;00m \u001b[39mself\u001b[39;49m\u001b[39m.\u001b[39;49mcls(f, \u001b[39mself\u001b[39;49m\u001b[39m.\u001b[39;49mopts, \u001b[39m*\u001b[39;49m\u001b[39m*\u001b[39;49m\u001b[39mself\u001b[39;49m\u001b[39m.\u001b[39;49mkwargs)\n",
      "File \u001b[0;32m/opt/homebrew/Caskroom/miniforge/base/envs/ml-librosa/lib/python3.10/site-packages/ipywidgets/widgets/interaction.py:189\u001b[0m, in \u001b[0;36minteractive.__init__\u001b[0;34m(self, _interactive__interact_f, _interactive__options, **kwargs)\u001b[0m\n\u001b[1;32m    <a href='file:///opt/homebrew/Caskroom/miniforge/base/envs/ml-librosa/lib/python3.10/site-packages/ipywidgets/widgets/interaction.py?line=185'>186</a>\u001b[0m \u001b[39mself\u001b[39m\u001b[39m.\u001b[39mmanual_name \u001b[39m=\u001b[39m __options\u001b[39m.\u001b[39mget(\u001b[39m\"\u001b[39m\u001b[39mmanual_name\u001b[39m\u001b[39m\"\u001b[39m, \u001b[39m\"\u001b[39m\u001b[39mRun Interact\u001b[39m\u001b[39m\"\u001b[39m)\n\u001b[1;32m    <a href='file:///opt/homebrew/Caskroom/miniforge/base/envs/ml-librosa/lib/python3.10/site-packages/ipywidgets/widgets/interaction.py?line=186'>187</a>\u001b[0m \u001b[39mself\u001b[39m\u001b[39m.\u001b[39mauto_display \u001b[39m=\u001b[39m __options\u001b[39m.\u001b[39mget(\u001b[39m\"\u001b[39m\u001b[39mauto_display\u001b[39m\u001b[39m\"\u001b[39m, \u001b[39mFalse\u001b[39;00m)\n\u001b[0;32m--> <a href='file:///opt/homebrew/Caskroom/miniforge/base/envs/ml-librosa/lib/python3.10/site-packages/ipywidgets/widgets/interaction.py?line=188'>189</a>\u001b[0m new_kwargs \u001b[39m=\u001b[39m \u001b[39mself\u001b[39;49m\u001b[39m.\u001b[39;49mfind_abbreviations(kwargs)\n\u001b[1;32m    <a href='file:///opt/homebrew/Caskroom/miniforge/base/envs/ml-librosa/lib/python3.10/site-packages/ipywidgets/widgets/interaction.py?line=189'>190</a>\u001b[0m \u001b[39m# Before we proceed, let's make sure that the user has passed a set of args+kwargs\u001b[39;00m\n\u001b[1;32m    <a href='file:///opt/homebrew/Caskroom/miniforge/base/envs/ml-librosa/lib/python3.10/site-packages/ipywidgets/widgets/interaction.py?line=190'>191</a>\u001b[0m \u001b[39m# that will lead to a valid call of the function. This protects against unspecified\u001b[39;00m\n\u001b[1;32m    <a href='file:///opt/homebrew/Caskroom/miniforge/base/envs/ml-librosa/lib/python3.10/site-packages/ipywidgets/widgets/interaction.py?line=191'>192</a>\u001b[0m \u001b[39m# and doubly-specified arguments.\u001b[39;00m\n\u001b[1;32m    <a href='file:///opt/homebrew/Caskroom/miniforge/base/envs/ml-librosa/lib/python3.10/site-packages/ipywidgets/widgets/interaction.py?line=192'>193</a>\u001b[0m \u001b[39mtry\u001b[39;00m:\n",
      "File \u001b[0;32m/opt/homebrew/Caskroom/miniforge/base/envs/ml-librosa/lib/python3.10/site-packages/ipywidgets/widgets/interaction.py:289\u001b[0m, in \u001b[0;36minteractive.find_abbreviations\u001b[0;34m(self, kwargs)\u001b[0m\n\u001b[1;32m    <a href='file:///opt/homebrew/Caskroom/miniforge/base/envs/ml-librosa/lib/python3.10/site-packages/ipywidgets/widgets/interaction.py?line=286'>287</a>\u001b[0m     \u001b[39mfor\u001b[39;00m name, value, default \u001b[39min\u001b[39;00m _yield_abbreviations_for_parameter(param, kwargs):\n\u001b[1;32m    <a href='file:///opt/homebrew/Caskroom/miniforge/base/envs/ml-librosa/lib/python3.10/site-packages/ipywidgets/widgets/interaction.py?line=287'>288</a>\u001b[0m         \u001b[39mif\u001b[39;00m value \u001b[39mis\u001b[39;00m empty:\n\u001b[0;32m--> <a href='file:///opt/homebrew/Caskroom/miniforge/base/envs/ml-librosa/lib/python3.10/site-packages/ipywidgets/widgets/interaction.py?line=288'>289</a>\u001b[0m             \u001b[39mraise\u001b[39;00m \u001b[39mValueError\u001b[39;00m(\u001b[39m'\u001b[39m\u001b[39mcannot find widget or abbreviation for argument: \u001b[39m\u001b[39m{!r}\u001b[39;00m\u001b[39m'\u001b[39m\u001b[39m.\u001b[39mformat(name))\n\u001b[1;32m    <a href='file:///opt/homebrew/Caskroom/miniforge/base/envs/ml-librosa/lib/python3.10/site-packages/ipywidgets/widgets/interaction.py?line=289'>290</a>\u001b[0m         new_kwargs\u001b[39m.\u001b[39mappend((name, value, default))\n\u001b[1;32m    <a href='file:///opt/homebrew/Caskroom/miniforge/base/envs/ml-librosa/lib/python3.10/site-packages/ipywidgets/widgets/interaction.py?line=290'>291</a>\u001b[0m \u001b[39mreturn\u001b[39;00m new_kwargs\n",
      "\u001b[0;31mValueError\u001b[0m: cannot find widget or abbreviation for argument: 'val'"
     ]
    },
    {
     "data": {
      "image/png": "[encoded data removed]",
      "text/plain": [
       "<Figure size 720x720 with 3 Axes>"
      ]
     },
     "metadata": {
      "needs_background": "light"
     },
     "output_type": "display_data"
    }
   ],
   "source": [
    "from matplotlib.widgets import Slider, Button, RadioButtons\n",
    "from ipywidgets import *\n",
    "\n",
    "fig, (ax_plot, ax_s1, ax_s2) = plt.subplots(3, 1, figsize=(10,10))\n",
    "\n",
    "ax_s1.spines['top'].set_visible(True)\n",
    "ax_s1.spines['right'].set_visible(True)\n",
    "ax_s2.spines['top'].set_visible(True)\n",
    "ax_s2.spines['right'].set_visible(True)\n",
    "\n",
    "line, *_ = ECM_plot(m=2_000, mu=[0.6, 0.4], ax=ax_plot)\n",
    "\n",
    "m_slide = Slider(ax_s1, 'm', 1, 10)\n",
    "MC_slide = Slider(ax_s2, 'MC', 1, 10)\n",
    "\n",
    "\n",
    "def update(val):\n",
    "    m = m_slide.val\n",
    "    MC = MC_slide.val\n",
    "    \n",
    "    avregret = run_ECM(m = m, mu = [0.6, 0.4], T = 10**4, MC = MC)\n",
    "\n",
    "    line.set_data(np.arange(avregret.size), avregret)\n",
    "    fig.canvas.draw_idle()\n",
    "    \n",
    "m_slide.on_changed(update)\n",
    "MC_slide.on_changed(update)\n",
    "\n",
    "interact(update)"
   ]
  },
  {
   "cell_type": "code",
   "execution_count": 35,
   "metadata": {},
   "outputs": [
    {
     "data": {
      "text/plain": [
       "[<matplotlib.lines.Line2D at 0x15a5dd8d0>]"
      ]
     },
     "execution_count": 35,
     "metadata": {},
     "output_type": "execute_result"
    }
   ],
   "source": [
    "line"
   ]
  },
  {
   "cell_type": "markdown",
   "metadata": {},
   "source": [
    "## The $\\epsilon$-greedy algorithm.\n",
    "\n",
    "The \"$\\epsilon$-greedy algorithm\" proceeds as follows:\n",
    "- For the first two iterations: play actions $0$ and $1$ once\n",
    "- At each iteration $t=3,4,5,\\ldots$,\n",
    "    - with probability $1-\\epsilon_t$, play the empirically best arm\n",
    "    - with probability $\\epsilon_t$, play action $0$ or $1$ uniformly at random\n",
    "\n",
    "Questions: Implement the algorithm and\n",
    "1. Show that, if $\\epsilon_t = \\min \\left\\{\\frac{c}{t},1\\right\\}$ with a large enough constant $c>0$, then the (expected) regret after $T$ rounds only grows logarithmically when $T \\to +\\infty$.\n",
    "2. What happens if we choose $\\epsilon_t=\\epsilon$ constant over time? or too small a value for $c$? (interpret the results in terms of exploration/exploitation)\n",
    "3. What is the main advantage of $\\epsilon$-greedy compared to Explore-Then-Commit? Which drawback remains?"
   ]
  },
  {
   "cell_type": "code",
   "execution_count": 42,
   "metadata": {},
   "outputs": [
    {
     "ename": "AxisError",
     "evalue": "axis 1 is out of bounds for array of dimension 0",
     "output_type": "error",
     "traceback": [
      "\u001b[0;31m---------------------------------------------------------------------------\u001b[0m",
      "\u001b[0;31mAxisError\u001b[0m                                 Traceback (most recent call last)",
      "\u001b[1;32m/Users/julienblanchon/Git/Projet-ML/tp_bandits/intro-bandits-enonce.ipynb Cell 16'\u001b[0m in \u001b[0;36m<cell line: 15>\u001b[0;34m()\u001b[0m\n\u001b[1;32m     <a href='vscode-notebook-cell:/Users/julienblanchon/Git/Projet-ML/tp_bandits/intro-bandits-enonce.ipynb#ch0000010?line=36'>37</a>\u001b[0m \u001b[39mfor\u001b[39;00m t \u001b[39min\u001b[39;00m \u001b[39mrange\u001b[39m(\u001b[39m2\u001b[39m,T):\n\u001b[1;32m     <a href='vscode-notebook-cell:/Users/julienblanchon/Git/Projet-ML/tp_bandits/intro-bandits-enonce.ipynb#ch0000010?line=38'>39</a>\u001b[0m     Jt \u001b[39m=\u001b[39m argmax(muhat)\n\u001b[0;32m---> <a href='vscode-notebook-cell:/Users/julienblanchon/Git/Projet-ML/tp_bandits/intro-bandits-enonce.ipynb#ch0000010?line=39'>40</a>\u001b[0m     epsilon_t \u001b[39m=\u001b[39m np\u001b[39m.\u001b[39;49mmin(c\u001b[39m/\u001b[39;49mt, \u001b[39m1\u001b[39;49m)\n\u001b[1;32m     <a href='vscode-notebook-cell:/Users/julienblanchon/Git/Projet-ML/tp_bandits/intro-bandits-enonce.ipynb#ch0000010?line=40'>41</a>\u001b[0m     \u001b[39mif\u001b[39;00m binomial(\u001b[39m1\u001b[39m, epsilon_t): \u001b[39m#We explore\u001b[39;00m\n\u001b[1;32m     <a href='vscode-notebook-cell:/Users/julienblanchon/Git/Projet-ML/tp_bandits/intro-bandits-enonce.ipynb#ch0000010?line=41'>42</a>\u001b[0m         A \u001b[39m=\u001b[39m binomial(\u001b[39m1\u001b[39m, \u001b[39m0.5\u001b[39m)\n",
      "File \u001b[0;32m<__array_function__ internals>:5\u001b[0m, in \u001b[0;36mamin\u001b[0;34m(*args, **kwargs)\u001b[0m\n",
      "File \u001b[0;32m/opt/homebrew/Caskroom/miniforge/base/envs/ml-librosa/lib/python3.10/site-packages/numpy/core/fromnumeric.py:2879\u001b[0m, in \u001b[0;36mamin\u001b[0;34m(a, axis, out, keepdims, initial, where)\u001b[0m\n\u001b[1;32m   <a href='file:///opt/homebrew/Caskroom/miniforge/base/envs/ml-librosa/lib/python3.10/site-packages/numpy/core/fromnumeric.py?line=2762'>2763</a>\u001b[0m \u001b[39m@array_function_dispatch\u001b[39m(_amin_dispatcher)\n\u001b[1;32m   <a href='file:///opt/homebrew/Caskroom/miniforge/base/envs/ml-librosa/lib/python3.10/site-packages/numpy/core/fromnumeric.py?line=2763'>2764</a>\u001b[0m \u001b[39mdef\u001b[39;00m \u001b[39mamin\u001b[39m(a, axis\u001b[39m=\u001b[39m\u001b[39mNone\u001b[39;00m, out\u001b[39m=\u001b[39m\u001b[39mNone\u001b[39;00m, keepdims\u001b[39m=\u001b[39mnp\u001b[39m.\u001b[39m_NoValue, initial\u001b[39m=\u001b[39mnp\u001b[39m.\u001b[39m_NoValue,\n\u001b[1;32m   <a href='file:///opt/homebrew/Caskroom/miniforge/base/envs/ml-librosa/lib/python3.10/site-packages/numpy/core/fromnumeric.py?line=2764'>2765</a>\u001b[0m          where\u001b[39m=\u001b[39mnp\u001b[39m.\u001b[39m_NoValue):\n\u001b[1;32m   <a href='file:///opt/homebrew/Caskroom/miniforge/base/envs/ml-librosa/lib/python3.10/site-packages/numpy/core/fromnumeric.py?line=2765'>2766</a>\u001b[0m     \u001b[39m\"\"\"\u001b[39;00m\n\u001b[1;32m   <a href='file:///opt/homebrew/Caskroom/miniforge/base/envs/ml-librosa/lib/python3.10/site-packages/numpy/core/fromnumeric.py?line=2766'>2767</a>\u001b[0m \u001b[39m    Return the minimum of an array or minimum along an axis.\u001b[39;00m\n\u001b[1;32m   <a href='file:///opt/homebrew/Caskroom/miniforge/base/envs/ml-librosa/lib/python3.10/site-packages/numpy/core/fromnumeric.py?line=2767'>2768</a>\u001b[0m \n\u001b[0;32m   (...)\u001b[0m\n\u001b[1;32m   <a href='file:///opt/homebrew/Caskroom/miniforge/base/envs/ml-librosa/lib/python3.10/site-packages/numpy/core/fromnumeric.py?line=2876'>2877</a>\u001b[0m \u001b[39m    6\u001b[39;00m\n\u001b[1;32m   <a href='file:///opt/homebrew/Caskroom/miniforge/base/envs/ml-librosa/lib/python3.10/site-packages/numpy/core/fromnumeric.py?line=2877'>2878</a>\u001b[0m \u001b[39m    \"\"\"\u001b[39;00m\n\u001b[0;32m-> <a href='file:///opt/homebrew/Caskroom/miniforge/base/envs/ml-librosa/lib/python3.10/site-packages/numpy/core/fromnumeric.py?line=2878'>2879</a>\u001b[0m     \u001b[39mreturn\u001b[39;00m _wrapreduction(a, np\u001b[39m.\u001b[39;49mminimum, \u001b[39m'\u001b[39;49m\u001b[39mmin\u001b[39;49m\u001b[39m'\u001b[39;49m, axis, \u001b[39mNone\u001b[39;49;00m, out,\n\u001b[1;32m   <a href='file:///opt/homebrew/Caskroom/miniforge/base/envs/ml-librosa/lib/python3.10/site-packages/numpy/core/fromnumeric.py?line=2879'>2880</a>\u001b[0m                           keepdims\u001b[39m=\u001b[39;49mkeepdims, initial\u001b[39m=\u001b[39;49minitial, where\u001b[39m=\u001b[39;49mwhere)\n",
      "File \u001b[0;32m/opt/homebrew/Caskroom/miniforge/base/envs/ml-librosa/lib/python3.10/site-packages/numpy/core/fromnumeric.py:86\u001b[0m, in \u001b[0;36m_wrapreduction\u001b[0;34m(obj, ufunc, method, axis, dtype, out, **kwargs)\u001b[0m\n\u001b[1;32m     <a href='file:///opt/homebrew/Caskroom/miniforge/base/envs/ml-librosa/lib/python3.10/site-packages/numpy/core/fromnumeric.py?line=82'>83</a>\u001b[0m         \u001b[39melse\u001b[39;00m:\n\u001b[1;32m     <a href='file:///opt/homebrew/Caskroom/miniforge/base/envs/ml-librosa/lib/python3.10/site-packages/numpy/core/fromnumeric.py?line=83'>84</a>\u001b[0m             \u001b[39mreturn\u001b[39;00m reduction(axis\u001b[39m=\u001b[39maxis, out\u001b[39m=\u001b[39mout, \u001b[39m*\u001b[39m\u001b[39m*\u001b[39mpasskwargs)\n\u001b[0;32m---> <a href='file:///opt/homebrew/Caskroom/miniforge/base/envs/ml-librosa/lib/python3.10/site-packages/numpy/core/fromnumeric.py?line=85'>86</a>\u001b[0m \u001b[39mreturn\u001b[39;00m ufunc\u001b[39m.\u001b[39;49mreduce(obj, axis, dtype, out, \u001b[39m*\u001b[39;49m\u001b[39m*\u001b[39;49mpasskwargs)\n",
      "\u001b[0;31mAxisError\u001b[0m: axis 1 is out of bounds for array of dimension 0"
     ]
    }
   ],
   "source": [
    "T = 5*10**3  # total number of rounds\n",
    "MC = 500    # number of Monte-Carlo experiments\n",
    "mu = [0.6, 0.4]\n",
    "# Try also:\n",
    "#mu = [0.8,0.2]\n",
    "#mu = [0.51,0.49]\n",
    "mustar = max(mu)\n",
    "\n",
    "# exploration parameter of the algorithm: epsilon_t = min(c/t,1) where\n",
    "c = 6*2/abs(mu[0]-mu[1])**2\n",
    "# (the choice of any c > 5*K/\\Delta^2 is guaranteed by the theory to yield logarithmic regret)\n",
    "\n",
    "avregret = zeros(T)  # will contain an estimate of the (expected) regret R_t for all t<=T\n",
    "\n",
    "for experiment in range(MC):\n",
    "    regret = 0\n",
    "    cumulRew = np.array([0, 0])\n",
    "    muhat = np.array([0, 0]) # estimates of expected rewards for arms 0 and 1\n",
    "    armcounts = np.array([0, 0]) # number of draws for arms 0 and 1\n",
    "    # initialization (dates 0 et 1)\n",
    "    for t in range(2):\n",
    "        if t==0:\n",
    "            armcounts[0] += 1\n",
    "            r = binomial(1, mu[0]) # observed reward\n",
    "            # muhat[0] += r/m\n",
    "            cumulRew[0] += r\n",
    "            regret += mustar - r\n",
    "            avregret[0] += regret # updates the estimate of the expected regret at time t\n",
    "        elif t==1:\n",
    "            armcounts[1] += 1\n",
    "            r = binomial(1, mu[1]) # observed reward\n",
    "            # muhat[1] += r/m\n",
    "            cumulRew[1] += r\n",
    "            regret += mustar - r\n",
    "            avregret[1] += regret # updates the estimate of the expected regret at time t\n",
    "    # exploration-exploitation phase: play epsilon-greedy\n",
    "    for t in range(2,T):\n",
    "        \n",
    "        Jt = argmax(muhat)\n",
    "        epsilon_t = np.min(c/t, 1)\n",
    "        if binomial(1, epsilon_t): #We explore\n",
    "            A = binomial(1, 0.5)\n",
    "        else: #We exploit\n",
    "            A = np.argmax(cumulRew/armcounts)\n",
    "        r = binomial(1, mu[A])\n",
    "        cumulRew[A] += 1\n",
    "        armcounts[A] += 1\n",
    "        regret += mustar - r\n",
    "        avregret[t] += regret/MC"
   ]
  },
  {
   "cell_type": "markdown",
   "metadata": {},
   "source": [
    "## The UCB algorithm.\n",
    "\n",
    "The UCB-algorithm proceeds as follows:\n",
    "- For the first two iterations: play actions $0$ and $1$ once.\n",
    "- At each iteration $t=3,4,5,\\ldots$, play the arm that maximizes the Upper Confidence Bound:\n",
    "$$I_t \\in \\rm{argmax}_{a \\in \\{0,1\\}} \\left\\{\\hat{\\mu}_{t-1}(a) + \\sqrt{\\frac{2 \\log(t)}{T_a(t-1)}} \\;\\right\\}$$\n",
    "   \n",
    "Questions: Implement the algorithm and\n",
    "1. Show that the (expected) regret after $T$ rounds also grows logarithmically when $T \\to +\\infty$.\n",
    "2. Compare UCB with the first two algorithms in terms of performances and of required prior knowledge."
   ]
  },
  {
   "cell_type": "code",
   "execution_count": 43,
   "metadata": {},
   "outputs": [
    {
     "data": {
      "text/plain": [
       "[<matplotlib.lines.Line2D at 0x15c153e50>]"
      ]
     },
     "execution_count": 43,
     "metadata": {},
     "output_type": "execute_result"
    },
    {
     "data": {
      "image/png": "[encoded data removed]",
      "text/plain": [
       "<Figure size 432x288 with 1 Axes>"
      ]
     },
     "metadata": {
      "needs_background": "light"
     },
     "output_type": "display_data"
    }
   ],
   "source": [
    "T = 5*10**3  # total number of rounds\n",
    "MC = 500    # number of Monte-Carlo experiments\n",
    "mu = [0.6,0.4]\n",
    "# Try also:\n",
    "#mu = [0.8,0.2]\n",
    "#mu = [0.51,0.49]\n",
    "mustar = max(mu)\n",
    "\n",
    "avregret = zeros(T)  # will contain an estimate of the (expected) regret R_t for all t<=T\n",
    "\n",
    "for experiment in range(MC):\n",
    "    regret = 0\n",
    "    cumulRew = np.array([0, 0])\n",
    "    muhat = np.array([0, 0]) # estimates of expected rewards for arms 0 and 1\n",
    "    armcounts = np.array([0, 0]) # number of draws for arms 0 and 1\n",
    "    # initialization (dates 0 et 1)\n",
    "    for t in range(2):\n",
    "        if t==0:\n",
    "            armcounts[0] += 1\n",
    "            r = binomial(1, mu[0]) # observed reward\n",
    "            # muhat[0] += r/m\n",
    "            cumulRew[0] += r\n",
    "            regret += mustar - r\n",
    "            avregret[0] += regret # updates the estimate of the expected regret at time t\n",
    "        elif t==1:\n",
    "            armcounts[1] += 1\n",
    "            r = binomial(1, mu[1]) # observed reward\n",
    "            # muhat[1] += r/m\n",
    "            cumulRew[1] += r\n",
    "            regret += mustar - r\n",
    "            avregret[1] += regret # updates the estimate of the expected regret at time t\n",
    "    # exploration-exploitation phase: play epsilon-greedy\n",
    "    for t in range(2,T):\n",
    "        A = np.argmax(cumulRew/armcounts + np.sqrt(2*log(t+1)/armcounts))\n",
    "\n",
    "        r = binomial(1, mu[A])\n",
    "        cumulRew[A] += r\n",
    "        armcounts[A] += 1\n",
    "        regret += mustar - r\n",
    "        avregret[t] += regret/MC\n",
    "\n",
    "plot(avregret)\n"
   ]
  },
  {
   "cell_type": "code",
   "execution_count": null,
   "metadata": {},
   "outputs": [],
   "source": []
  }
 ],
 "metadata": {
  "anaconda-cloud": {},
  "celltoolbar": "Raw Cell Format",
  "interpreter": {
   "hash": "83a087f6c9febb870e50fbd162001fc890b5900fd9e55e6b89b302b8391153f2"
  },
  "kernelspec": {
   "display_name": "Python 3.10.4 ('ml-librosa')",
   "language": "python",
   "name": "python3"
  },
  "language_info": {
   "codemirror_mode": {
    "name": "ipython",
    "version": 3
   },
   "file_extension": ".py",
   "mimetype": "text/x-python",
   "name": "python",
   "nbconvert_exporter": "python",
   "pygments_lexer": "ipython3",
   "version": "3.10.4"
  }
 },
 "nbformat": 4,
 "nbformat_minor": 2
}
