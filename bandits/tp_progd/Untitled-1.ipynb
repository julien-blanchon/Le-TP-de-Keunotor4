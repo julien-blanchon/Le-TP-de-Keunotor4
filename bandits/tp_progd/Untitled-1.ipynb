{
 "cells": [
  {
   "cell_type": "markdown",
   "metadata": {},
   "source": [
    "# Problème du sac à dos"
   ]
  },
  {
   "cell_type": "code",
   "execution_count": null,
   "metadata": {},
   "outputs": [],
   "source": [
    "import numpy as np"
   ]
  },
  {
   "cell_type": "code",
   "execution_count": null,
   "metadata": {},
   "outputs": [],
   "source": [
    "b - "
   ]
  }
 ],
 "metadata": {
  "interpreter": {
   "hash": "7ddabe292bb057ecc8360fd28fbc0652ad07a5d9a19e0efec277a278aab5473f"
  },
  "kernelspec": {
   "display_name": "Python 3.9.13 ('deconvolution2')",
   "language": "python",
   "name": "python3"
  },
  "language_info": {
   "name": "python",
   "version": "3.9.13"
  },
  "orig_nbformat": 4
 },
 "nbformat": 4,
 "nbformat_minor": 2
}
