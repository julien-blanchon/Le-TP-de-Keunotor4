{
 "cells": [
  {
   "cell_type": "markdown",
   "metadata": {
    "id": "_PWCRomO2stZ"
   },
   "source": [
    "# TP3 - Premiers CNN \n",
    "\n",
    "# MNIST \n",
    "\n",
    "L'objectif de cette première de TP est d'utiliser une architecture CNN pour reconnaître des chiffres manuscrits sur la base de données du MNIST (http://yann.lecun.com/exdb/mnist/). Pour rappel, la base de chiffres manuscrits comprend un ensemble de 60 000 exemples d'apprentissage  et un ensemble de 10 000 exemples de test.  Les chiffres, dont quelques exemples sont représentés sur la figure, ont été normalisés et centrés dans une image de taille fixe $28\\times 28$ pixels. \n",
    "\n",
    "![mnist](https://www.ttested.com/gallery/thumbnails/ditch-mnist.jpg)\n",
    "\n",
    "\n"
   ]
  },
  {
   "cell_type": "code",
   "execution_count": 124,
   "metadata": {
    "id": "-x3EKKw-_BR7"
   },
   "outputs": [],
   "source": [
    "# import des librairies \n",
    "import numpy as np\n",
    "import tensorflow as tf\n",
    "#from tensorflow import keras\n",
    "from tensorflow.keras import layers\n",
    "import matplotlib.pyplot as plt\n",
    "\n",
    "# Librairies et fonctions nécessaires au design des réseaux de neurones\n",
    "import keras\n",
    "from keras import layers\n",
    "from keras import models\n",
    "from keras.layers import Dense, Conv2D, MaxPooling2D, Flatten, Activation\n",
    "from keras.models import Model, Sequential\n",
    "\n",
    "from sklearn.model_selection import train_test_split\n"
   ]
  },
  {
   "cell_type": "markdown",
   "metadata": {
    "id": "1gaTOmNG_KZO"
   },
   "source": [
    "## Chargement des données"
   ]
  },
  {
   "cell_type": "code",
   "execution_count": 131,
   "metadata": {
    "id": "QMjeVml7_CfW"
   },
   "outputs": [
    {
     "name": "stdout",
     "output_type": "stream",
     "text": [
      "(54000, 28, 28, 1)\n",
      "(6000, 28, 28, 1)\n",
      "(10000, 28, 28, 1)\n"
     ]
    }
   ],
   "source": [
    "# Nombre de classes\n",
    "num_classes = 10\n",
    "\n",
    "# Chargement base d'apprentissage et de test \n",
    "(x_train, y_train), (x_test, y_test) = tf.keras.datasets.mnist.load_data()\n",
    "\n",
    "X_train1,  X_val, y_train1, y_val = train_test_split(x_train, y_train, test_size=0.1, shuffle=False)\n",
    "\n",
    "# Reshape des data pour les formatter en 28x28x1\n",
    "X_train1 = X_train1.reshape(-1, 28,28,1)\n",
    "X_val = X_val.reshape(-1, 28,28,1)\n",
    "x_test=x_test.reshape(-1, 28,28,1)\n",
    "# X_train1 = X_train1.reshape(-1, 1, 28,28)\n",
    "# X_val = X_val.reshape(-1, 1, 28,28)\n",
    "# x_test=x_test.reshape(-1, 1, 28,28)\n",
    "\n",
    "# normalisation \n",
    "X_train1 = X_train1.astype(\"float32\") / 255\n",
    "X_val=X_val.astype(\"float32\") / 255\n",
    "x_test = x_test.astype(\"float32\") / 255\n",
    "\n",
    "# Affichage de la nouvelle shape des données (maintenant sous forme de matrice 28x28)\n",
    "print(X_train1.shape)\n",
    "print(X_val.shape)\n",
    "print(x_test.shape)\n",
    "\n",
    "# Passer les labels en categorical\n",
    "y_train1 = tf.keras.utils.to_categorical(y_train1, num_classes)\n",
    "y_val = tf.keras.utils.to_categorical(y_val, num_classes)\n",
    "y_test = tf.keras.utils.to_categorical(y_test, num_classes)\n",
    "\n",
    "\n",
    "# mean = x_train.mean()\n",
    "# std = x_train.std()\n",
    "\n",
    "# X_train1 = (X_train1-mean)/std\n",
    "# X_val = (X_val-mean)/std\n",
    "# x_test = (x_test-mean)/std"
   ]
  },
  {
   "cell_type": "markdown",
   "metadata": {
    "id": "F34s3Nla_TPd"
   },
   "source": [
    "## Architecture CNN"
   ]
  },
  {
   "cell_type": "code",
   "execution_count": 132,
   "metadata": {
    "id": "6fQvViXt_P9c"
   },
   "outputs": [
    {
     "name": "stdout",
     "output_type": "stream",
     "text": [
      "Model: \"sequential_11\"\n",
      "_________________________________________________________________\n",
      " Layer (type)                Output Shape              Param #   \n",
      "=================================================================\n",
      " conv2d_18 (Conv2D)          (None, 26, 26, 32)        320       \n",
      "                                                                 \n",
      " max_pooling2d_7 (MaxPooling  (None, 13, 13, 32)       0         \n",
      " 2D)                                                             \n",
      "                                                                 \n",
      " conv2d_19 (Conv2D)          (None, 11, 11, 64)        18496     \n",
      "                                                                 \n",
      " max_pooling2d_8 (MaxPooling  (None, 5, 5, 64)         0         \n",
      " 2D)                                                             \n",
      "                                                                 \n",
      " flatten_11 (Flatten)        (None, 1600)              0         \n",
      "                                                                 \n",
      " dense_12 (Dense)            (None, 128)               204928    \n",
      "                                                                 \n",
      " dense_13 (Dense)            (None, 10)                1290      \n",
      "                                                                 \n",
      "=================================================================\n",
      "Total params: 225,034\n",
      "Trainable params: 225,034\n",
      "Non-trainable params: 0\n",
      "_________________________________________________________________\n"
     ]
    }
   ],
   "source": [
    "# Création de l'architecture\n",
    "model = Sequential()\n",
    "model.add(Conv2D(32, 3, activation=\"relu\", input_shape=(28, 28, 1)))\n",
    "model.add(layers.MaxPooling2D(pool_size=(2,2)))\n",
    "model.add(Conv2D(64, 3, activation=\"relu\", input_shape=(28, 28, 1)))\n",
    "model.add(layers.MaxPooling2D(pool_size=(2,2)))\n",
    "model.add(Flatten())\n",
    "model.add(Dense(128, activation=\"relu\"))\n",
    "model.add(Dense(10, activation=\"softmax\"))\n",
    "model.summary()\n"
   ]
  },
  {
   "cell_type": "markdown",
   "metadata": {
    "id": "fg2cxVcq_bmk"
   },
   "source": [
    "## Entraînement "
   ]
  },
  {
   "cell_type": "code",
   "execution_count": 133,
   "metadata": {},
   "outputs": [
    {
     "name": "stdout",
     "output_type": "stream",
     "text": [
      "Epoch 1/100\n"
     ]
    },
    {
     "name": "stderr",
     "output_type": "stream",
     "text": [
      "2022-06-23 17:53:33.050675: I tensorflow/core/grappler/optimizers/custom_graph_optimizer_registry.cc:113] Plugin optimizer for device_type GPU is enabled.\n"
     ]
    },
    {
     "name": "stdout",
     "output_type": "stream",
     "text": [
      "54/54 [==============================] - 3s 34ms/step - loss: 0.7553 - acc: 0.8002 - val_loss: 0.1843 - val_acc: 0.9487\n",
      "Epoch 2/100\n",
      " 1/54 [..............................] - ETA: 1s - loss: 0.2422 - acc: 0.9240"
     ]
    },
    {
     "name": "stderr",
     "output_type": "stream",
     "text": [
      "2022-06-23 17:53:35.776760: I tensorflow/core/grappler/optimizers/custom_graph_optimizer_registry.cc:113] Plugin optimizer for device_type GPU is enabled.\n"
     ]
    },
    {
     "name": "stdout",
     "output_type": "stream",
     "text": [
      "54/54 [==============================] - 2s 32ms/step - loss: 0.1735 - acc: 0.9478 - val_loss: 0.1058 - val_acc: 0.9722\n",
      "Epoch 3/100\n",
      "54/54 [==============================] - 2s 32ms/step - loss: 0.1041 - acc: 0.9686 - val_loss: 0.0776 - val_acc: 0.9795\n",
      "Epoch 4/100\n",
      "54/54 [==============================] - 2s 32ms/step - loss: 0.0766 - acc: 0.9773 - val_loss: 0.0672 - val_acc: 0.9825\n",
      "Epoch 5/100\n",
      "54/54 [==============================] - 2s 32ms/step - loss: 0.0634 - acc: 0.9809 - val_loss: 0.0569 - val_acc: 0.9848\n",
      "Epoch 6/100\n",
      "54/54 [==============================] - 2s 32ms/step - loss: 0.0556 - acc: 0.9830 - val_loss: 0.0515 - val_acc: 0.9870\n",
      "Epoch 7/100\n",
      "54/54 [==============================] - 2s 33ms/step - loss: 0.0481 - acc: 0.9856 - val_loss: 0.0493 - val_acc: 0.9862\n",
      "Epoch 8/100\n",
      "54/54 [==============================] - 2s 33ms/step - loss: 0.0430 - acc: 0.9869 - val_loss: 0.0481 - val_acc: 0.9863\n",
      "Epoch 9/100\n",
      "54/54 [==============================] - 2s 32ms/step - loss: 0.0387 - acc: 0.9881 - val_loss: 0.0471 - val_acc: 0.9878\n",
      "Epoch 10/100\n",
      "54/54 [==============================] - 2s 32ms/step - loss: 0.0357 - acc: 0.9891 - val_loss: 0.0446 - val_acc: 0.9880\n",
      "Epoch 11/100\n",
      "54/54 [==============================] - 2s 33ms/step - loss: 0.0316 - acc: 0.9906 - val_loss: 0.0459 - val_acc: 0.9878\n",
      "Epoch 12/100\n",
      "54/54 [==============================] - 2s 32ms/step - loss: 0.0305 - acc: 0.9911 - val_loss: 0.0453 - val_acc: 0.9870\n",
      "Epoch 13/100\n",
      "54/54 [==============================] - 2s 32ms/step - loss: 0.0272 - acc: 0.9917 - val_loss: 0.0427 - val_acc: 0.9903\n",
      "Epoch 14/100\n",
      "54/54 [==============================] - 2s 32ms/step - loss: 0.0243 - acc: 0.9931 - val_loss: 0.0438 - val_acc: 0.9897\n",
      "Epoch 15/100\n",
      "54/54 [==============================] - 2s 32ms/step - loss: 0.0227 - acc: 0.9935 - val_loss: 0.0476 - val_acc: 0.9885\n",
      "Epoch 16/100\n",
      "54/54 [==============================] - 2s 32ms/step - loss: 0.0203 - acc: 0.9939 - val_loss: 0.0415 - val_acc: 0.9898\n",
      "Epoch 17/100\n",
      "54/54 [==============================] - 2s 32ms/step - loss: 0.0202 - acc: 0.9938 - val_loss: 0.0405 - val_acc: 0.9890\n",
      "Epoch 18/100\n",
      "54/54 [==============================] - 2s 32ms/step - loss: 0.0169 - acc: 0.9951 - val_loss: 0.0429 - val_acc: 0.9900\n",
      "Epoch 19/100\n",
      "54/54 [==============================] - 2s 32ms/step - loss: 0.0157 - acc: 0.9956 - val_loss: 0.0432 - val_acc: 0.9895\n",
      "Epoch 20/100\n",
      "54/54 [==============================] - 2s 32ms/step - loss: 0.0142 - acc: 0.9959 - val_loss: 0.0460 - val_acc: 0.9892\n",
      "Epoch 21/100\n",
      "54/54 [==============================] - 2s 32ms/step - loss: 0.0136 - acc: 0.9961 - val_loss: 0.0415 - val_acc: 0.9898\n",
      "Epoch 22/100\n",
      "54/54 [==============================] - 2s 32ms/step - loss: 0.0123 - acc: 0.9965 - val_loss: 0.0416 - val_acc: 0.9903\n",
      "Epoch 23/100\n",
      "54/54 [==============================] - 2s 32ms/step - loss: 0.0114 - acc: 0.9965 - val_loss: 0.0447 - val_acc: 0.9905\n",
      "Epoch 24/100\n",
      "54/54 [==============================] - 2s 32ms/step - loss: 0.0096 - acc: 0.9973 - val_loss: 0.0439 - val_acc: 0.9888\n",
      "Epoch 25/100\n",
      "54/54 [==============================] - 2s 32ms/step - loss: 0.0087 - acc: 0.9976 - val_loss: 0.0440 - val_acc: 0.9900\n",
      "Epoch 26/100\n",
      "54/54 [==============================] - 2s 32ms/step - loss: 0.0080 - acc: 0.9978 - val_loss: 0.0471 - val_acc: 0.9897\n",
      "Epoch 27/100\n",
      "54/54 [==============================] - 2s 32ms/step - loss: 0.0081 - acc: 0.9978 - val_loss: 0.0497 - val_acc: 0.9893\n",
      "Epoch 28/100\n",
      "54/54 [==============================] - 2s 32ms/step - loss: 0.0088 - acc: 0.9973 - val_loss: 0.0456 - val_acc: 0.9898\n",
      "Epoch 29/100\n",
      "54/54 [==============================] - 2s 32ms/step - loss: 0.0061 - acc: 0.9984 - val_loss: 0.0415 - val_acc: 0.9910\n",
      "Epoch 30/100\n",
      "54/54 [==============================] - 2s 32ms/step - loss: 0.0063 - acc: 0.9984 - val_loss: 0.0520 - val_acc: 0.9883\n",
      "Epoch 31/100\n",
      "54/54 [==============================] - 2s 32ms/step - loss: 0.0055 - acc: 0.9986 - val_loss: 0.0465 - val_acc: 0.9907\n",
      "Epoch 32/100\n",
      "54/54 [==============================] - 2s 32ms/step - loss: 0.0042 - acc: 0.9989 - val_loss: 0.0502 - val_acc: 0.9900\n",
      "Epoch 33/100\n",
      "54/54 [==============================] - 2s 32ms/step - loss: 0.0043 - acc: 0.9990 - val_loss: 0.0520 - val_acc: 0.9893\n",
      "Epoch 34/100\n",
      "54/54 [==============================] - 2s 32ms/step - loss: 0.0031 - acc: 0.9993 - val_loss: 0.0477 - val_acc: 0.9897\n",
      "Epoch 35/100\n",
      "54/54 [==============================] - 2s 32ms/step - loss: 0.0028 - acc: 0.9994 - val_loss: 0.0495 - val_acc: 0.9897\n",
      "Epoch 36/100\n",
      "54/54 [==============================] - 2s 32ms/step - loss: 0.0024 - acc: 0.9996 - val_loss: 0.0525 - val_acc: 0.9890\n",
      "Epoch 37/100\n",
      "54/54 [==============================] - 2s 32ms/step - loss: 0.0031 - acc: 0.9992 - val_loss: 0.0509 - val_acc: 0.9897\n",
      "Epoch 38/100\n",
      "54/54 [==============================] - 2s 32ms/step - loss: 0.0032 - acc: 0.9990 - val_loss: 0.0595 - val_acc: 0.9903\n",
      "Epoch 39/100\n",
      "54/54 [==============================] - 2s 32ms/step - loss: 0.0029 - acc: 0.9991 - val_loss: 0.0580 - val_acc: 0.9903\n",
      "Epoch 40/100\n",
      "54/54 [==============================] - 2s 32ms/step - loss: 0.0022 - acc: 0.9995 - val_loss: 0.0611 - val_acc: 0.9903\n",
      "Epoch 41/100\n",
      "54/54 [==============================] - 2s 32ms/step - loss: 0.0015 - acc: 0.9997 - val_loss: 0.0556 - val_acc: 0.9912\n",
      "Epoch 42/100\n",
      "54/54 [==============================] - 2s 34ms/step - loss: 9.1406e-04 - acc: 0.9999 - val_loss: 0.0544 - val_acc: 0.9905\n",
      "Epoch 43/100\n",
      "54/54 [==============================] - 2s 32ms/step - loss: 7.0328e-04 - acc: 1.0000 - val_loss: 0.0583 - val_acc: 0.9908\n",
      "Epoch 44/100\n",
      "54/54 [==============================] - 2s 32ms/step - loss: 7.4430e-04 - acc: 0.9999 - val_loss: 0.0560 - val_acc: 0.9902\n",
      "Epoch 45/100\n",
      "54/54 [==============================] - 2s 32ms/step - loss: 9.8452e-04 - acc: 0.9999 - val_loss: 0.0592 - val_acc: 0.9902\n",
      "Epoch 46/100\n",
      "54/54 [==============================] - 2s 32ms/step - loss: 0.0013 - acc: 0.9997 - val_loss: 0.0610 - val_acc: 0.9897\n",
      "Epoch 47/100\n",
      "54/54 [==============================] - 2s 32ms/step - loss: 7.8662e-04 - acc: 0.9999 - val_loss: 0.0573 - val_acc: 0.9903\n",
      "Epoch 48/100\n",
      "54/54 [==============================] - 2s 32ms/step - loss: 6.1495e-04 - acc: 0.9999 - val_loss: 0.0593 - val_acc: 0.9907\n",
      "Epoch 49/100\n",
      "54/54 [==============================] - 2s 32ms/step - loss: 4.0474e-04 - acc: 1.0000 - val_loss: 0.0593 - val_acc: 0.9903\n",
      "Epoch 50/100\n",
      "54/54 [==============================] - 2s 32ms/step - loss: 3.3930e-04 - acc: 1.0000 - val_loss: 0.0603 - val_acc: 0.9908\n",
      "Epoch 51/100\n",
      "54/54 [==============================] - 2s 32ms/step - loss: 3.6898e-04 - acc: 1.0000 - val_loss: 0.0595 - val_acc: 0.9905\n",
      "Epoch 52/100\n",
      "54/54 [==============================] - 2s 32ms/step - loss: 2.6080e-04 - acc: 1.0000 - val_loss: 0.0623 - val_acc: 0.9905\n",
      "Epoch 53/100\n",
      "54/54 [==============================] - 2s 32ms/step - loss: 2.6278e-04 - acc: 1.0000 - val_loss: 0.0628 - val_acc: 0.9903\n",
      "Epoch 54/100\n",
      "54/54 [==============================] - 2s 32ms/step - loss: 2.5642e-04 - acc: 1.0000 - val_loss: 0.0617 - val_acc: 0.9907\n",
      "Epoch 55/100\n",
      "54/54 [==============================] - 2s 32ms/step - loss: 2.1034e-04 - acc: 1.0000 - val_loss: 0.0639 - val_acc: 0.9903\n",
      "Epoch 56/100\n",
      "54/54 [==============================] - 2s 32ms/step - loss: 2.0161e-04 - acc: 1.0000 - val_loss: 0.0644 - val_acc: 0.9903\n",
      "Epoch 57/100\n",
      "54/54 [==============================] - 2s 32ms/step - loss: 2.7461e-04 - acc: 1.0000 - val_loss: 0.0636 - val_acc: 0.9897\n",
      "Epoch 58/100\n",
      "54/54 [==============================] - 2s 32ms/step - loss: 2.8556e-04 - acc: 1.0000 - val_loss: 0.0647 - val_acc: 0.9902\n",
      "Epoch 59/100\n",
      "54/54 [==============================] - 2s 34ms/step - loss: 5.8298e-04 - acc: 0.9998 - val_loss: 0.0652 - val_acc: 0.9900\n",
      "Epoch 60/100\n",
      "54/54 [==============================] - 2s 32ms/step - loss: 6.6311e-04 - acc: 0.9999 - val_loss: 0.0648 - val_acc: 0.9905\n",
      "Epoch 61/100\n",
      "54/54 [==============================] - 2s 33ms/step - loss: 6.0807e-04 - acc: 0.9999 - val_loss: 0.0662 - val_acc: 0.9908\n",
      "Epoch 62/100\n",
      "54/54 [==============================] - 2s 33ms/step - loss: 5.4753e-04 - acc: 0.9999 - val_loss: 0.0706 - val_acc: 0.9897\n",
      "Epoch 63/100\n",
      "54/54 [==============================] - 2s 32ms/step - loss: 0.0260 - acc: 0.9922 - val_loss: 0.0493 - val_acc: 0.9897\n",
      "Epoch 64/100\n",
      "54/54 [==============================] - 2s 34ms/step - loss: 0.0074 - acc: 0.9978 - val_loss: 0.0487 - val_acc: 0.9902\n",
      "Epoch 65/100\n",
      "54/54 [==============================] - 2s 32ms/step - loss: 0.0042 - acc: 0.9986 - val_loss: 0.0539 - val_acc: 0.9903\n",
      "Epoch 66/100\n",
      "54/54 [==============================] - 2s 32ms/step - loss: 0.0019 - acc: 0.9996 - val_loss: 0.0536 - val_acc: 0.9913\n",
      "Epoch 67/100\n",
      "54/54 [==============================] - 2s 32ms/step - loss: 7.9758e-04 - acc: 0.9999 - val_loss: 0.0555 - val_acc: 0.9908\n",
      "Epoch 68/100\n",
      "54/54 [==============================] - 2s 32ms/step - loss: 3.8357e-04 - acc: 1.0000 - val_loss: 0.0540 - val_acc: 0.9917\n",
      "Epoch 69/100\n",
      "54/54 [==============================] - 2s 32ms/step - loss: 2.6473e-04 - acc: 1.0000 - val_loss: 0.0578 - val_acc: 0.9917\n",
      "Epoch 70/100\n",
      "54/54 [==============================] - 2s 32ms/step - loss: 2.1812e-04 - acc: 1.0000 - val_loss: 0.0583 - val_acc: 0.9913\n",
      "Epoch 71/100\n",
      "54/54 [==============================] - 2s 32ms/step - loss: 1.9974e-04 - acc: 1.0000 - val_loss: 0.0591 - val_acc: 0.9920\n",
      "Epoch 72/100\n",
      "54/54 [==============================] - 2s 33ms/step - loss: 1.5728e-04 - acc: 1.0000 - val_loss: 0.0601 - val_acc: 0.9913\n",
      "Epoch 73/100\n",
      "54/54 [==============================] - 2s 32ms/step - loss: 1.4434e-04 - acc: 1.0000 - val_loss: 0.0612 - val_acc: 0.9913\n",
      "Epoch 74/100\n",
      "54/54 [==============================] - 2s 32ms/step - loss: 1.3499e-04 - acc: 1.0000 - val_loss: 0.0617 - val_acc: 0.9915\n",
      "Epoch 75/100\n",
      "54/54 [==============================] - 2s 33ms/step - loss: 1.2162e-04 - acc: 1.0000 - val_loss: 0.0624 - val_acc: 0.9917\n",
      "Epoch 76/100\n",
      "54/54 [==============================] - 2s 33ms/step - loss: 1.1142e-04 - acc: 1.0000 - val_loss: 0.0632 - val_acc: 0.9910\n",
      "Epoch 77/100\n",
      "54/54 [==============================] - 2s 36ms/step - loss: 1.0690e-04 - acc: 1.0000 - val_loss: 0.0636 - val_acc: 0.9912\n",
      "Epoch 78/100\n",
      "54/54 [==============================] - 2s 34ms/step - loss: 9.7693e-05 - acc: 1.0000 - val_loss: 0.0642 - val_acc: 0.9913\n",
      "Epoch 79/100\n",
      "54/54 [==============================] - 2s 32ms/step - loss: 9.2277e-05 - acc: 1.0000 - val_loss: 0.0652 - val_acc: 0.9910\n",
      "Epoch 80/100\n",
      "54/54 [==============================] - 2s 34ms/step - loss: 8.6680e-05 - acc: 1.0000 - val_loss: 0.0653 - val_acc: 0.9910\n",
      "Epoch 81/100\n",
      "54/54 [==============================] - 2s 33ms/step - loss: 8.0752e-05 - acc: 1.0000 - val_loss: 0.0652 - val_acc: 0.9917\n",
      "Epoch 82/100\n",
      "54/54 [==============================] - 2s 34ms/step - loss: 7.4489e-05 - acc: 1.0000 - val_loss: 0.0660 - val_acc: 0.9915\n",
      "Epoch 83/100\n",
      "54/54 [==============================] - 2s 36ms/step - loss: 7.2109e-05 - acc: 1.0000 - val_loss: 0.0666 - val_acc: 0.9915\n",
      "Epoch 84/100\n",
      "54/54 [==============================] - 2s 32ms/step - loss: 6.8186e-05 - acc: 1.0000 - val_loss: 0.0667 - val_acc: 0.9917\n",
      "Epoch 85/100\n",
      "54/54 [==============================] - 2s 32ms/step - loss: 6.5576e-05 - acc: 1.0000 - val_loss: 0.0680 - val_acc: 0.9917\n",
      "Epoch 86/100\n",
      "54/54 [==============================] - 2s 33ms/step - loss: 6.0477e-05 - acc: 1.0000 - val_loss: 0.0684 - val_acc: 0.9917\n",
      "Epoch 87/100\n",
      "54/54 [==============================] - 2s 33ms/step - loss: 5.9011e-05 - acc: 1.0000 - val_loss: 0.0681 - val_acc: 0.9913\n",
      "Epoch 88/100\n",
      "54/54 [==============================] - 2s 33ms/step - loss: 5.6333e-05 - acc: 1.0000 - val_loss: 0.0692 - val_acc: 0.9910\n",
      "Epoch 89/100\n",
      "54/54 [==============================] - 2s 34ms/step - loss: 5.1785e-05 - acc: 1.0000 - val_loss: 0.0698 - val_acc: 0.9913\n",
      "Epoch 90/100\n",
      "54/54 [==============================] - 2s 32ms/step - loss: 5.1112e-05 - acc: 1.0000 - val_loss: 0.0708 - val_acc: 0.9913\n",
      "Epoch 91/100\n",
      "54/54 [==============================] - 2s 32ms/step - loss: 4.6824e-05 - acc: 1.0000 - val_loss: 0.0705 - val_acc: 0.9913\n",
      "Epoch 92/100\n",
      "54/54 [==============================] - 2s 32ms/step - loss: 4.4737e-05 - acc: 1.0000 - val_loss: 0.0710 - val_acc: 0.9915\n",
      "Epoch 93/100\n",
      "54/54 [==============================] - 2s 32ms/step - loss: 4.2988e-05 - acc: 1.0000 - val_loss: 0.0714 - val_acc: 0.9915\n",
      "Epoch 94/100\n",
      "54/54 [==============================] - 2s 32ms/step - loss: 4.2264e-05 - acc: 1.0000 - val_loss: 0.0719 - val_acc: 0.9913\n",
      "Epoch 95/100\n",
      "54/54 [==============================] - 2s 33ms/step - loss: 4.0276e-05 - acc: 1.0000 - val_loss: 0.0723 - val_acc: 0.9912\n",
      "Epoch 96/100\n",
      "54/54 [==============================] - 2s 32ms/step - loss: 3.7221e-05 - acc: 1.0000 - val_loss: 0.0719 - val_acc: 0.9908\n",
      "Epoch 97/100\n",
      "54/54 [==============================] - 2s 32ms/step - loss: 3.6735e-05 - acc: 1.0000 - val_loss: 0.0724 - val_acc: 0.9908\n",
      "Epoch 98/100\n",
      "54/54 [==============================] - 2s 32ms/step - loss: 3.4403e-05 - acc: 1.0000 - val_loss: 0.0731 - val_acc: 0.9913\n",
      "Epoch 99/100\n",
      "54/54 [==============================] - 2s 32ms/step - loss: 3.2958e-05 - acc: 1.0000 - val_loss: 0.0736 - val_acc: 0.9912\n",
      "Epoch 100/100\n",
      "54/54 [==============================] - 2s 33ms/step - loss: 3.1326e-05 - acc: 1.0000 - val_loss: 0.0739 - val_acc: 0.9912\n"
     ]
    }
   ],
   "source": [
    "# Optimisation du modèle \n",
    "\n",
    "opt = keras.optimizers.Adam(learning_rate=0.001) \n",
    "\n",
    "model.compile(loss='categorical_crossentropy',\n",
    "              optimizer=opt,\n",
    "              metrics=['acc'])\n",
    "\n",
    "history = model.fit(X_train1, y_train1,\n",
    "          epochs=20,\n",
    "          validation_data=(X_val, y_val),\n",
    "          batch_size=1_000)"
   ]
  },
  {
   "cell_type": "code",
   "execution_count": 135,
   "metadata": {},
   "outputs": [],
   "source": [
    "score = model.evaluate(x_test, y_test, verbose=False)"
   ]
  },
  {
   "cell_type": "code",
   "execution_count": 136,
   "metadata": {},
   "outputs": [
    {
     "data": {
      "text/plain": [
       "[0.057394690811634064, 0.9899000525474548]"
      ]
     },
     "execution_count": 136,
     "metadata": {},
     "output_type": "execute_result"
    }
   ],
   "source": [
    "score"
   ]
  },
  {
   "cell_type": "code",
   "execution_count": 101,
   "metadata": {},
   "outputs": [],
   "source": [
    "import torch\n",
    "import torch.nn as nn\n",
    "import skorch\n",
    "\n",
    "class CustomMadeCNN(nn.Module):\n",
    "    def __init__(self, n_labels: int):\n",
    "        super().__init__()\n",
    "        self.n_labels = n_labels\n",
    "\n",
    "        self.conv1 = nn.Sequential(\n",
    "            nn.Conv2d(in_channels=1, out_channels=2, kernel_size=(3,3), padding=1),\n",
    "            nn.ReLU(),\n",
    "            nn.MaxPool2d(kernel_size=(2, 2))\n",
    "        )\n",
    "\n",
    "        self.conv2 = nn.Sequential(\n",
    "            nn.Conv2d(in_channels=2, out_channels=16, kernel_size=(3,3), padding=1),\n",
    "            nn.ReLU(),\n",
    "            nn.MaxPool2d(kernel_size=(2, 2))\n",
    "        )\n",
    "        \n",
    "        self.adaptative = nn.AdaptiveAvgPool2d(1)\n",
    "        self.flatten = nn.Flatten()\n",
    "\n",
    "        self.fc1 = nn.Sequential(\n",
    "            nn.Linear(16, self.n_labels),\n",
    "            nn.Dropout(0.25)\n",
    "        )\n",
    "\n",
    "        self.softmax = nn.Softmax(dim=1)\n",
    "\n",
    "    def forward(self, x: torch.Tensor) -> torch.Tensor:\n",
    "        x = self.conv1(x)\n",
    "        x = self.conv2(x)\n",
    "\n",
    "        x = self.adaptative(x)\n",
    "        x = self.flatten(x)\n",
    "\n",
    "        logits = self.fc1(x)\n",
    "        # prediction = self.softmax(logits)\n",
    "        return logits"
   ]
  },
  {
   "cell_type": "code",
   "execution_count": 105,
   "metadata": {},
   "outputs": [
    {
     "name": "stdout",
     "output_type": "stream",
     "text": [
      "  epoch    train_loss      dur\n",
      "-------  ------------  -------\n",
      "      1        \u001b[36m2.2409\u001b[0m  13.2956\n",
      "      2        \u001b[36m1.8425\u001b[0m  12.8695\n",
      "      3        \u001b[36m1.4789\u001b[0m  12.9141\n",
      "      4        \u001b[36m1.2800\u001b[0m  12.9907\n",
      "      5        \u001b[36m1.1490\u001b[0m  12.8185\n",
      "      6        \u001b[36m1.0561\u001b[0m  12.8045\n",
      "      7        \u001b[36m0.9912\u001b[0m  12.8935\n",
      "      8        \u001b[36m0.9371\u001b[0m  12.8331\n",
      "      9        \u001b[36m0.9078\u001b[0m  12.8951\n",
      "     10        \u001b[36m0.8781\u001b[0m  12.9475\n"
     ]
    },
    {
     "data": {
      "text/plain": [
       "<class 'skorch.classifier.NeuralNetClassifier'>[initialized](\n",
       "  module_=CustomMadeCNN(\n",
       "    (conv1): Sequential(\n",
       "      (0): Conv2d(1, 2, kernel_size=(3, 3), stride=(1, 1), padding=(1, 1))\n",
       "      (1): ReLU()\n",
       "      (2): MaxPool2d(kernel_size=(2, 2), stride=(2, 2), padding=0, dilation=1, ceil_mode=False)\n",
       "    )\n",
       "    (conv2): Sequential(\n",
       "      (0): Conv2d(2, 16, kernel_size=(3, 3), stride=(1, 1), padding=(1, 1))\n",
       "      (1): ReLU()\n",
       "      (2): MaxPool2d(kernel_size=(2, 2), stride=(2, 2), padding=0, dilation=1, ceil_mode=False)\n",
       "    )\n",
       "    (adaptative): AdaptiveAvgPool2d(output_size=1)\n",
       "    (flatten): Flatten(start_dim=1, end_dim=-1)\n",
       "    (fc1): Sequential(\n",
       "      (0): Linear(in_features=16, out_features=10, bias=True)\n",
       "      (1): Dropout(p=0.25, inplace=False)\n",
       "    )\n",
       "    (softmax): Softmax(dim=1)\n",
       "  ),\n",
       ")"
      ]
     },
     "execution_count": 105,
     "metadata": {},
     "output_type": "execute_result"
    }
   ],
   "source": [
    "# Define net\n",
    "net = CustomMadeCNN(num_classes)\n",
    "\n",
    "# Define model\n",
    "model = skorch.NeuralNetClassifier(\n",
    "    module=net,\n",
    "    criterion=nn.CrossEntropyLoss(),\n",
    "    callbacks=[skorch.callbacks.EarlyStopping(monitor=\"train_loss\", patience=10)],\n",
    "    # optimizer=torch.optim.Adam,\n",
    "    max_epochs=10,\n",
    "    lr=0.1,\n",
    "    batch_size=64,\n",
    "    train_split=None,\n",
    "    device=\"mps\",\n",
    ")\n",
    "\n",
    "model.fit(X_train1, np.argmax(y_train1, axis=1))"
   ]
  },
  {
   "cell_type": "code",
   "execution_count": 106,
   "metadata": {},
   "outputs": [
    {
     "data": {
      "text/plain": [
       "0.8062"
      ]
     },
     "execution_count": 106,
     "metadata": {},
     "output_type": "execute_result"
    }
   ],
   "source": [
    "from sklearn.metrics import accuracy_score\n",
    "accuracy_score(model.predict(x_test), np.argmax(y_test, axis=1))"
   ]
  },
  {
   "cell_type": "markdown",
   "metadata": {
    "id": "8vCl7G05_lUw"
   },
   "source": [
    "## Analyse des résultats "
   ]
  },
  {
   "cell_type": "code",
   "execution_count": 5,
   "metadata": {
    "id": "E-S4Iflw_QBD"
   },
   "outputs": [],
   "source": [
    "# Analyse des résultats \n",
    "\n",
    "def plot_training_analysis():\n",
    "  acc = history.history['acc']\n",
    "  val_acc = history.history['val_acc']\n",
    "  loss = history.history['loss']\n",
    "  val_loss = history.history['val_loss']\n",
    "\n",
    "  epochs = range(len(acc))\n",
    "\n",
    "  plt.plot(epochs, acc, 'b', linestyle=\"--\",label='Training acc')\n",
    "  plt.plot(epochs, val_acc, 'g', label='Validation acc')\n",
    "  plt.title('Training and validation accuracy')\n",
    "  plt.legend()\n",
    "\n",
    "  plt.figure()\n",
    "\n",
    "  plt.plot(epochs, loss, 'b', linestyle=\"--\",label='Training loss')\n",
    "  plt.plot(epochs, val_loss,'g', label='Validation loss')\n",
    "  plt.title('Training and validation loss')\n",
    "  plt.legend()\n",
    "\n",
    "  plt.show()"
   ]
  },
  {
   "cell_type": "code",
   "execution_count": 6,
   "metadata": {
    "id": "Tcx_XWa3_QEw"
   },
   "outputs": [
    {
     "data": {
      "image/png": "[encoded data removed]",
      "text/plain": [
       "<Figure size 432x288 with 1 Axes>"
      ]
     },
     "metadata": {
      "needs_background": "light"
     },
     "output_type": "display_data"
    },
    {
     "data": {
      "image/png": "[encoded data removed]",
      "text/plain": [
       "<Figure size 432x288 with 1 Axes>"
      ]
     },
     "metadata": {
      "needs_background": "light"
     },
     "output_type": "display_data"
    }
   ],
   "source": [
    "plot_training_analysis()"
   ]
  },
  {
   "cell_type": "markdown",
   "metadata": {
    "id": "jZz8Jwti9k6T"
   },
   "source": [
    "## Evaluation sur la base de test "
   ]
  },
  {
   "cell_type": "code",
   "execution_count": null,
   "metadata": {
    "id": "fV21osc6_QIq"
   },
   "outputs": [],
   "source": []
  },
  {
   "cell_type": "markdown",
   "metadata": {
    "id": "4WZPvDiv-Tp5"
   },
   "source": [
    "# Fashion-MNIST\n",
    "\n",
    "\n",
    "Fashion-MNIST est un jeu de données d'images d'articles de Zalando (https://github.com/zalandoresearch/fashion-mnist), composé d'un ensemble d'apprentissage de 60 000 exemples et d'un ensemble de test de 10 000 exemples. Chaque exemple est une image en niveaux de gris de 28x28, associée à une étiquette parmi 10 classes. Zalando souhaite que Fashion-MNIST remplace directement le jeu de données MNIST original pour l'évaluation des algorithmes d'apprentissage automatique. Il partage la même taille d'image et la même structure de divisions de formation et de test.\n",
    "\n",
    "![Fashion-mnist](https://pyimagesearch.com/wp-content/uploads/2019/02/fashion_mnist_dataset_sample.png)\n",
    "\n",
    "\n",
    "\n",
    "Le jeu de données MNIST original contient beaucoup de chiffres manuscrits. Les membres de la communauté de l'IA/ML/Science des données adorent ce jeu de données et l'utilisent comme référence pour valider leurs algorithmes. En fait, MNIST est souvent le premier jeu de données que les chercheurs essaient. \"Si cela ne fonctionne pas sur MNIST, cela ne fonctionnera pas du tout\", ont-ils dit. \"Et si ça marche sur MNIST, ça peut encore échouer sur d'autres\".\n",
    "\n",
    "Zalando cherche à remplacer le jeu de données MNIST original.\n",
    "\n",
    "\n",
    "## Description des données\n",
    "1. Chaque image mesure 28 pixels de hauteur et 28 pixels de largeur, soit 784 pixels au total.\n",
    "2. Chaque pixel est associé à une valeur unique, qui indique la clarté ou l'obscurité du pixel, les chiffres les plus élevés signifiant les plus sombres. Cette valeur de pixel est un nombre entier compris entre 0 et 255.\n",
    "3. Les ensembles de données d'apprentissage et de test comportent 785 colonnes.\n",
    "4.La première colonne est constituée des étiquettes de classe (voir ci-dessus) et représente l'article de vêtement.\n",
    "5.Les autres colonnes contiennent les valeurs des pixels de l'image associée.\n",
    "\n",
    "\n",
    "Pour localiser un pixel sur l'image, supposons que nous ayons décomposé x comme suit : x = i * 28 + j, où i et j sont des entiers compris entre 0 et 27. Le pixel est situé sur la ligne i et la colonne j d'une matrice 28 x 28. \n",
    "\n",
    "\n",
    "## Description des classes \n",
    "\n",
    "Chaque exemple d'apprentissage et de test est affecté à l'une des étiquettes suivantes :\n",
    "\n",
    "0. T-shirt/top\n",
    "1. Pantalon\n",
    "2. Pull-over\n",
    "3. Robe\n",
    "4. Manteau\n",
    "5. Sandale\n",
    "6. Chemise\n",
    "7. Sneakers\n",
    "8. Sac\n",
    "9. Botte \n"
   ]
  },
  {
   "cell_type": "markdown",
   "metadata": {
    "id": "Vv5y9FkbAGTP"
   },
   "source": [
    "## Chargement des données"
   ]
  },
  {
   "cell_type": "code",
   "execution_count": 107,
   "metadata": {
    "id": "11UuOApr2cIz"
   },
   "outputs": [
    {
     "name": "stdout",
     "output_type": "stream",
     "text": [
      "Downloading data from https://storage.googleapis.com/tensorflow/tf-keras-datasets/train-labels-idx1-ubyte.gz\n",
      "29515/29515 [==============================] - 0s 1us/step\n",
      "Downloading data from https://storage.googleapis.com/tensorflow/tf-keras-datasets/train-images-idx3-ubyte.gz\n",
      "26421880/26421880 [==============================] - 1s 0us/step\n",
      "Downloading data from https://storage.googleapis.com/tensorflow/tf-keras-datasets/t10k-labels-idx1-ubyte.gz\n",
      "5148/5148 [==============================] - 0s 0us/step\n",
      "Downloading data from https://storage.googleapis.com/tensorflow/tf-keras-datasets/t10k-images-idx3-ubyte.gz\n",
      "4422102/4422102 [==============================] - 1s 0us/step\n"
     ]
    }
   ],
   "source": [
    "from keras.datasets import fashion_mnist\n",
    "\n",
    "# Nombre de classes\n",
    "num_classes = 10\n",
    "targets_names = [\"T-shirt\", \"Pantalon\", \"Pull\", \"Robe\", \"Manteau\", \"Sandale\", \"Chemise\", \"Sneaker\", \"Sac\", \"Bottes\"]\n",
    "\n",
    "# Chargement base d'apprentissage et de test \n",
    "(images_train, y_train), (images_test, y_test) = fashion_mnist.load_data()\n",
    "\n",
    "# normalisation \n",
    "#x_train = image_train.astype(\"float32\") / 255\n",
    "#x_test = image_test.astype(\"float32\") / 255\n",
    "\n",
    "# Passer les labels en categorical\n",
    "y_train = tf.keras.utils.to_categorical(y_train, num_classes)\n",
    "y_test = tf.keras.utils.to_categorical(y_test, num_classes)\n"
   ]
  },
  {
   "cell_type": "code",
   "execution_count": 113,
   "metadata": {},
   "outputs": [],
   "source": [
    "images_train = images_train.reshape(-1, 28, 28, 1)\n",
    "images_test = images_test.reshape(-1, 28, 28, 1)"
   ]
  },
  {
   "cell_type": "code",
   "execution_count": 114,
   "metadata": {
    "colab": {
     "base_uri": "https://localhost:8080/"
    },
    "id": "xEMHLc3nAhE6",
    "outputId": "d1dcecc0-0c01-466f-89d6-a3e0ce06ec82"
   },
   "outputs": [
    {
     "name": "stdout",
     "output_type": "stream",
     "text": [
      "(60000, 28, 28, 1)\n",
      "(60000, 10)\n"
     ]
    }
   ],
   "source": [
    "print(images_train.shape)\n",
    "print(y_train.shape)"
   ]
  },
  {
   "cell_type": "code",
   "execution_count": 115,
   "metadata": {
    "colab": {
     "base_uri": "https://localhost:8080/",
     "height": 269
    },
    "id": "5GuUEbnHAhOz",
    "outputId": "53f7b9bd-4de2-4fc0-de0b-34bbd6dcbc02"
   },
   "outputs": [
    {
     "data": {
      "image/png": "[encoded data removed]",
      "text/plain": [
       "<Figure size 432x288 with 25 Axes>"
      ]
     },
     "metadata": {
      "needs_background": "light"
     },
     "output_type": "display_data"
    }
   ],
   "source": [
    "# Quelques exemples \n",
    "for i in range(25):\n",
    "    plt.subplot(5,5,i+1);\n",
    "    h = plt.imshow(images_train[1000*i]);"
   ]
  },
  {
   "cell_type": "markdown",
   "metadata": {
    "id": "LEJXwRqmHD8a"
   },
   "source": [
    "# Architecture CNN"
   ]
  },
  {
   "cell_type": "code",
   "execution_count": 119,
   "metadata": {
    "id": "GNbSEfo3HCZO"
   },
   "outputs": [
    {
     "name": "stdout",
     "output_type": "stream",
     "text": [
      "Model: \"sequential_7\"\n",
      "_________________________________________________________________\n",
      " Layer (type)                Output Shape              Param #   \n",
      "=================================================================\n",
      " conv2d_11 (Conv2D)          (None, 26, 26, 2)         20        \n",
      "                                                                 \n",
      " flatten_7 (Flatten)         (None, 1352)              0         \n",
      "                                                                 \n",
      " dense_7 (Dense)             (None, 10)                13530     \n",
      "                                                                 \n",
      "=================================================================\n",
      "Total params: 13,550\n",
      "Trainable params: 13,550\n",
      "Non-trainable params: 0\n",
      "_________________________________________________________________\n"
     ]
    }
   ],
   "source": [
    "# Création de l'architecture\n",
    "model = Sequential()\n",
    "model.add(Conv2D(2, 3, activation=\"relu\", input_shape=(28, 28, 1)))\n",
    "# model.add(layers.MaxPooling2D(pool_size=3, strides=2))\n",
    "# model.add(Conv2D(2, 3, activation=\"relu\"))\n",
    "# model.add(layers.MaxPooling2D(pool_size=3, strides=2))\n",
    "model.add(Flatten())\n",
    "model.add(Dense(10, activation=\"softmax\"))\n",
    "model.summary()\n",
    "\n"
   ]
  },
  {
   "cell_type": "markdown",
   "metadata": {
    "id": "p7Id-eSjHTmC"
   },
   "source": [
    "# Entraînement"
   ]
  },
  {
   "cell_type": "code",
   "execution_count": 120,
   "metadata": {
    "id": "4rzuNdmwHCnt"
   },
   "outputs": [
    {
     "name": "stdout",
     "output_type": "stream",
     "text": [
      "Epoch 1/100\n",
      "10/60 [====>.........................] - ETA: 0s - loss: 27.4593 - acc: 0.2768"
     ]
    },
    {
     "name": "stderr",
     "output_type": "stream",
     "text": [
      "2022-06-23 17:49:21.239644: I tensorflow/core/grappler/optimizers/custom_graph_optimizer_registry.cc:113] Plugin optimizer for device_type GPU is enabled.\n"
     ]
    },
    {
     "name": "stdout",
     "output_type": "stream",
     "text": [
      "60/60 [==============================] - 1s 12ms/step - loss: 9.0842 - acc: 0.6354 - val_loss: 3.5589 - val_acc: 0.7417\n",
      "Epoch 2/100\n",
      " 7/60 [==>...........................] - ETA: 0s - loss: 2.9967 - acc: 0.7687"
     ]
    },
    {
     "name": "stderr",
     "output_type": "stream",
     "text": [
      "2022-06-23 17:49:21.942508: I tensorflow/core/grappler/optimizers/custom_graph_optimizer_registry.cc:113] Plugin optimizer for device_type GPU is enabled.\n"
     ]
    },
    {
     "name": "stdout",
     "output_type": "stream",
     "text": [
      "60/60 [==============================] - 1s 10ms/step - loss: 2.5779 - acc: 0.7710 - val_loss: 2.2873 - val_acc: 0.7641\n",
      "Epoch 3/100\n",
      "60/60 [==============================] - 1s 9ms/step - loss: 1.7299 - acc: 0.7875 - val_loss: 1.7598 - val_acc: 0.7724\n",
      "Epoch 4/100\n",
      "60/60 [==============================] - 1s 10ms/step - loss: 1.3303 - acc: 0.7979 - val_loss: 1.4548 - val_acc: 0.7818\n",
      "Epoch 5/100\n",
      "60/60 [==============================] - 1s 9ms/step - loss: 1.0795 - acc: 0.8061 - val_loss: 1.2717 - val_acc: 0.7811\n",
      "Epoch 6/100\n",
      "60/60 [==============================] - 1s 9ms/step - loss: 0.9105 - acc: 0.8128 - val_loss: 1.1338 - val_acc: 0.7903\n",
      "Epoch 7/100\n",
      "60/60 [==============================] - 1s 9ms/step - loss: 0.8073 - acc: 0.8177 - val_loss: 1.0505 - val_acc: 0.7948\n",
      "Epoch 8/100\n",
      "60/60 [==============================] - 1s 10ms/step - loss: 0.7087 - acc: 0.8263 - val_loss: 0.9634 - val_acc: 0.7958\n",
      "Epoch 9/100\n",
      "60/60 [==============================] - 1s 10ms/step - loss: 0.6420 - acc: 0.8306 - val_loss: 0.9153 - val_acc: 0.8035\n",
      "Epoch 10/100\n",
      "60/60 [==============================] - 1s 10ms/step - loss: 0.5949 - acc: 0.8358 - val_loss: 0.8756 - val_acc: 0.7972\n",
      "Epoch 11/100\n",
      "60/60 [==============================] - 1s 9ms/step - loss: 0.5568 - acc: 0.8384 - val_loss: 0.8245 - val_acc: 0.8047\n",
      "Epoch 12/100\n",
      "60/60 [==============================] - 1s 9ms/step - loss: 0.5196 - acc: 0.8436 - val_loss: 0.7859 - val_acc: 0.8090\n",
      "Epoch 13/100\n",
      "60/60 [==============================] - 1s 10ms/step - loss: 0.4951 - acc: 0.8476 - val_loss: 0.7630 - val_acc: 0.8067\n",
      "Epoch 14/100\n",
      "60/60 [==============================] - 1s 9ms/step - loss: 0.4738 - acc: 0.8502 - val_loss: 0.7493 - val_acc: 0.8095\n",
      "Epoch 15/100\n",
      "60/60 [==============================] - 1s 9ms/step - loss: 0.4532 - acc: 0.8540 - val_loss: 0.7238 - val_acc: 0.8121\n",
      "Epoch 16/100\n",
      "60/60 [==============================] - 1s 10ms/step - loss: 0.4373 - acc: 0.8567 - val_loss: 0.7025 - val_acc: 0.8189\n",
      "Epoch 17/100\n",
      "60/60 [==============================] - 1s 11ms/step - loss: 0.4210 - acc: 0.8596 - val_loss: 0.6861 - val_acc: 0.8169\n",
      "Epoch 18/100\n",
      "60/60 [==============================] - 1s 10ms/step - loss: 0.4135 - acc: 0.8608 - val_loss: 0.6843 - val_acc: 0.8163\n",
      "Epoch 19/100\n",
      "60/60 [==============================] - 1s 10ms/step - loss: 0.4014 - acc: 0.8641 - val_loss: 0.6756 - val_acc: 0.8173\n",
      "Epoch 20/100\n",
      "60/60 [==============================] - 1s 11ms/step - loss: 0.3915 - acc: 0.8658 - val_loss: 0.6564 - val_acc: 0.8181\n",
      "Epoch 21/100\n",
      "60/60 [==============================] - 1s 10ms/step - loss: 0.3862 - acc: 0.8669 - val_loss: 0.6586 - val_acc: 0.8199\n",
      "Epoch 22/100\n",
      "60/60 [==============================] - 1s 11ms/step - loss: 0.3813 - acc: 0.8671 - val_loss: 0.6462 - val_acc: 0.8189\n",
      "Epoch 23/100\n",
      "60/60 [==============================] - 1s 10ms/step - loss: 0.3721 - acc: 0.8691 - val_loss: 0.6335 - val_acc: 0.8232\n",
      "Epoch 24/100\n",
      "60/60 [==============================] - 1s 11ms/step - loss: 0.3633 - acc: 0.8719 - val_loss: 0.6354 - val_acc: 0.8242\n",
      "Epoch 25/100\n",
      "60/60 [==============================] - 1s 11ms/step - loss: 0.3628 - acc: 0.8720 - val_loss: 0.6379 - val_acc: 0.8243\n",
      "Epoch 26/100\n",
      "60/60 [==============================] - 1s 12ms/step - loss: 0.3592 - acc: 0.8717 - val_loss: 0.6204 - val_acc: 0.8240\n",
      "Epoch 27/100\n",
      "60/60 [==============================] - 1s 12ms/step - loss: 0.3537 - acc: 0.8745 - val_loss: 0.6207 - val_acc: 0.8249\n",
      "Epoch 28/100\n",
      "60/60 [==============================] - 1s 10ms/step - loss: 0.3490 - acc: 0.8762 - val_loss: 0.6097 - val_acc: 0.8268\n",
      "Epoch 29/100\n",
      "60/60 [==============================] - 1s 10ms/step - loss: 0.3456 - acc: 0.8764 - val_loss: 0.6194 - val_acc: 0.8227\n",
      "Epoch 30/100\n",
      "60/60 [==============================] - 1s 10ms/step - loss: 0.3461 - acc: 0.8774 - val_loss: 0.6118 - val_acc: 0.8289\n",
      "Epoch 31/100\n",
      "60/60 [==============================] - 1s 10ms/step - loss: 0.3424 - acc: 0.8773 - val_loss: 0.6099 - val_acc: 0.8246\n",
      "Epoch 32/100\n",
      "60/60 [==============================] - 1s 10ms/step - loss: 0.3380 - acc: 0.8784 - val_loss: 0.6101 - val_acc: 0.8277\n",
      "Epoch 33/100\n",
      "60/60 [==============================] - 1s 10ms/step - loss: 0.3369 - acc: 0.8802 - val_loss: 0.5890 - val_acc: 0.8310\n",
      "Epoch 34/100\n",
      "60/60 [==============================] - 1s 11ms/step - loss: 0.3331 - acc: 0.8804 - val_loss: 0.6032 - val_acc: 0.8300\n",
      "Epoch 35/100\n",
      "60/60 [==============================] - 1s 10ms/step - loss: 0.3279 - acc: 0.8825 - val_loss: 0.6002 - val_acc: 0.8255\n",
      "Epoch 36/100\n",
      "60/60 [==============================] - 1s 10ms/step - loss: 0.3261 - acc: 0.8820 - val_loss: 0.5873 - val_acc: 0.8339\n",
      "Epoch 37/100\n",
      "60/60 [==============================] - 1s 11ms/step - loss: 0.3263 - acc: 0.8820 - val_loss: 0.5812 - val_acc: 0.8360\n",
      "Epoch 38/100\n",
      "60/60 [==============================] - 1s 11ms/step - loss: 0.3244 - acc: 0.8830 - val_loss: 0.5907 - val_acc: 0.8317\n",
      "Epoch 39/100\n",
      "60/60 [==============================] - 1s 12ms/step - loss: 0.3226 - acc: 0.8827 - val_loss: 0.5865 - val_acc: 0.8281\n",
      "Epoch 40/100\n",
      "60/60 [==============================] - 1s 11ms/step - loss: 0.3169 - acc: 0.8853 - val_loss: 0.5860 - val_acc: 0.8306\n",
      "Epoch 41/100\n",
      "60/60 [==============================] - 1s 11ms/step - loss: 0.3162 - acc: 0.8858 - val_loss: 0.5880 - val_acc: 0.8256\n",
      "Epoch 42/100\n",
      "60/60 [==============================] - 1s 10ms/step - loss: 0.3171 - acc: 0.8851 - val_loss: 0.5731 - val_acc: 0.8358\n",
      "Epoch 43/100\n",
      "60/60 [==============================] - 1s 10ms/step - loss: 0.3140 - acc: 0.8849 - val_loss: 0.5772 - val_acc: 0.8335\n",
      "Epoch 44/100\n",
      "60/60 [==============================] - 1s 11ms/step - loss: 0.3118 - acc: 0.8869 - val_loss: 0.5844 - val_acc: 0.8287\n",
      "Epoch 45/100\n",
      "60/60 [==============================] - 1s 11ms/step - loss: 0.3123 - acc: 0.8862 - val_loss: 0.5734 - val_acc: 0.8318\n",
      "Epoch 46/100\n",
      "60/60 [==============================] - 1s 10ms/step - loss: 0.3117 - acc: 0.8845 - val_loss: 0.5702 - val_acc: 0.8363\n",
      "Epoch 47/100\n",
      "60/60 [==============================] - 1s 10ms/step - loss: 0.3064 - acc: 0.8872 - val_loss: 0.5777 - val_acc: 0.8320\n",
      "Epoch 48/100\n",
      "60/60 [==============================] - 1s 10ms/step - loss: 0.3049 - acc: 0.8883 - val_loss: 0.5684 - val_acc: 0.8386\n",
      "Epoch 49/100\n",
      "60/60 [==============================] - 1s 10ms/step - loss: 0.3038 - acc: 0.8889 - val_loss: 0.5681 - val_acc: 0.8335\n",
      "Epoch 50/100\n",
      "60/60 [==============================] - 1s 10ms/step - loss: 0.3012 - acc: 0.8896 - val_loss: 0.5664 - val_acc: 0.8350\n",
      "Epoch 51/100\n",
      "60/60 [==============================] - 1s 10ms/step - loss: 0.2980 - acc: 0.8918 - val_loss: 0.5601 - val_acc: 0.8372\n",
      "Epoch 52/100\n",
      "60/60 [==============================] - 1s 11ms/step - loss: 0.2980 - acc: 0.8909 - val_loss: 0.5649 - val_acc: 0.8347\n",
      "Epoch 53/100\n",
      "60/60 [==============================] - 1s 11ms/step - loss: 0.2970 - acc: 0.8923 - val_loss: 0.5639 - val_acc: 0.8363\n",
      "Epoch 54/100\n",
      "60/60 [==============================] - 1s 11ms/step - loss: 0.2965 - acc: 0.8915 - val_loss: 0.5693 - val_acc: 0.8296\n",
      "Epoch 55/100\n",
      "60/60 [==============================] - 1s 11ms/step - loss: 0.2938 - acc: 0.8924 - val_loss: 0.5582 - val_acc: 0.8383\n",
      "Epoch 56/100\n",
      "60/60 [==============================] - 1s 10ms/step - loss: 0.2912 - acc: 0.8939 - val_loss: 0.5652 - val_acc: 0.8391\n",
      "Epoch 57/100\n",
      "60/60 [==============================] - 1s 10ms/step - loss: 0.2908 - acc: 0.8925 - val_loss: 0.5549 - val_acc: 0.8405\n",
      "Epoch 58/100\n",
      "60/60 [==============================] - 1s 10ms/step - loss: 0.2885 - acc: 0.8950 - val_loss: 0.5548 - val_acc: 0.8425\n",
      "Epoch 59/100\n",
      "60/60 [==============================] - 1s 11ms/step - loss: 0.2870 - acc: 0.8952 - val_loss: 0.5508 - val_acc: 0.8398\n",
      "Epoch 60/100\n",
      "60/60 [==============================] - 1s 10ms/step - loss: 0.2870 - acc: 0.8955 - val_loss: 0.5528 - val_acc: 0.8362\n",
      "Epoch 61/100\n",
      "60/60 [==============================] - 1s 10ms/step - loss: 0.2852 - acc: 0.8954 - val_loss: 0.5466 - val_acc: 0.8412\n",
      "Epoch 62/100\n",
      "60/60 [==============================] - 1s 10ms/step - loss: 0.2860 - acc: 0.8956 - val_loss: 0.5519 - val_acc: 0.8391\n",
      "Epoch 63/100\n",
      "60/60 [==============================] - 1s 12ms/step - loss: 0.2837 - acc: 0.8961 - val_loss: 0.5511 - val_acc: 0.8385\n",
      "Epoch 64/100\n",
      "60/60 [==============================] - 1s 10ms/step - loss: 0.2810 - acc: 0.8971 - val_loss: 0.5500 - val_acc: 0.8402\n",
      "Epoch 65/100\n",
      "60/60 [==============================] - 1s 10ms/step - loss: 0.2791 - acc: 0.8979 - val_loss: 0.5444 - val_acc: 0.8436\n",
      "Epoch 66/100\n",
      "60/60 [==============================] - 1s 10ms/step - loss: 0.2790 - acc: 0.8974 - val_loss: 0.5468 - val_acc: 0.8448\n",
      "Epoch 67/100\n",
      "60/60 [==============================] - 1s 10ms/step - loss: 0.2788 - acc: 0.8986 - val_loss: 0.5387 - val_acc: 0.8452\n",
      "Epoch 68/100\n",
      "60/60 [==============================] - 1s 9ms/step - loss: 0.2772 - acc: 0.8983 - val_loss: 0.5443 - val_acc: 0.8443\n",
      "Epoch 69/100\n",
      "60/60 [==============================] - 1s 10ms/step - loss: 0.2766 - acc: 0.8988 - val_loss: 0.5414 - val_acc: 0.8421\n",
      "Epoch 70/100\n",
      "60/60 [==============================] - 1s 9ms/step - loss: 0.2769 - acc: 0.8990 - val_loss: 0.5408 - val_acc: 0.8435\n",
      "Epoch 71/100\n",
      "60/60 [==============================] - 1s 10ms/step - loss: 0.2756 - acc: 0.8986 - val_loss: 0.5405 - val_acc: 0.8429\n",
      "Epoch 72/100\n",
      "60/60 [==============================] - 1s 9ms/step - loss: 0.2766 - acc: 0.8988 - val_loss: 0.5386 - val_acc: 0.8473\n",
      "Epoch 73/100\n",
      "60/60 [==============================] - 1s 10ms/step - loss: 0.2753 - acc: 0.8996 - val_loss: 0.5400 - val_acc: 0.8435\n",
      "Epoch 74/100\n",
      "60/60 [==============================] - 1s 10ms/step - loss: 0.2726 - acc: 0.9001 - val_loss: 0.5366 - val_acc: 0.8448\n",
      "Epoch 75/100\n",
      "60/60 [==============================] - 1s 10ms/step - loss: 0.2726 - acc: 0.8993 - val_loss: 0.5339 - val_acc: 0.8444\n",
      "Epoch 76/100\n",
      "60/60 [==============================] - 1s 10ms/step - loss: 0.2707 - acc: 0.9005 - val_loss: 0.5422 - val_acc: 0.8448\n",
      "Epoch 77/100\n",
      "60/60 [==============================] - 1s 9ms/step - loss: 0.2695 - acc: 0.9020 - val_loss: 0.5456 - val_acc: 0.8411\n",
      "Epoch 78/100\n",
      "60/60 [==============================] - 1s 9ms/step - loss: 0.2701 - acc: 0.9009 - val_loss: 0.5417 - val_acc: 0.8427\n",
      "Epoch 79/100\n",
      "60/60 [==============================] - 1s 9ms/step - loss: 0.2690 - acc: 0.9012 - val_loss: 0.5416 - val_acc: 0.8435\n",
      "Epoch 80/100\n",
      "60/60 [==============================] - 1s 10ms/step - loss: 0.2675 - acc: 0.9022 - val_loss: 0.5459 - val_acc: 0.8443\n",
      "Epoch 81/100\n",
      "60/60 [==============================] - 1s 10ms/step - loss: 0.2697 - acc: 0.9008 - val_loss: 0.5383 - val_acc: 0.8436\n",
      "Epoch 82/100\n",
      "60/60 [==============================] - 1s 9ms/step - loss: 0.2689 - acc: 0.9010 - val_loss: 0.5372 - val_acc: 0.8448\n",
      "Epoch 83/100\n",
      "60/60 [==============================] - 1s 9ms/step - loss: 0.2675 - acc: 0.9022 - val_loss: 0.5326 - val_acc: 0.8453\n",
      "Epoch 84/100\n",
      "60/60 [==============================] - 1s 10ms/step - loss: 0.2664 - acc: 0.9028 - val_loss: 0.5404 - val_acc: 0.8443\n",
      "Epoch 85/100\n",
      "60/60 [==============================] - 1s 9ms/step - loss: 0.2666 - acc: 0.9018 - val_loss: 0.5338 - val_acc: 0.8488\n",
      "Epoch 86/100\n",
      "60/60 [==============================] - 1s 10ms/step - loss: 0.2657 - acc: 0.9033 - val_loss: 0.5479 - val_acc: 0.8429\n",
      "Epoch 87/100\n",
      "60/60 [==============================] - 1s 10ms/step - loss: 0.2660 - acc: 0.9029 - val_loss: 0.5356 - val_acc: 0.8417\n",
      "Epoch 88/100\n",
      "60/60 [==============================] - 1s 10ms/step - loss: 0.2635 - acc: 0.9044 - val_loss: 0.5380 - val_acc: 0.8459\n",
      "Epoch 89/100\n",
      "60/60 [==============================] - 1s 10ms/step - loss: 0.2639 - acc: 0.9033 - val_loss: 0.5383 - val_acc: 0.8408\n",
      "Epoch 90/100\n",
      "60/60 [==============================] - 1s 9ms/step - loss: 0.2626 - acc: 0.9047 - val_loss: 0.5338 - val_acc: 0.8462\n",
      "Epoch 91/100\n",
      "60/60 [==============================] - 1s 10ms/step - loss: 0.2613 - acc: 0.9042 - val_loss: 0.5406 - val_acc: 0.8454\n",
      "Epoch 92/100\n",
      "60/60 [==============================] - 1s 10ms/step - loss: 0.2627 - acc: 0.9036 - val_loss: 0.5339 - val_acc: 0.8458\n",
      "Epoch 93/100\n",
      "60/60 [==============================] - 1s 9ms/step - loss: 0.2617 - acc: 0.9036 - val_loss: 0.5359 - val_acc: 0.8464\n",
      "Epoch 94/100\n",
      "60/60 [==============================] - 1s 10ms/step - loss: 0.2613 - acc: 0.9047 - val_loss: 0.5373 - val_acc: 0.8437\n",
      "Epoch 95/100\n",
      "60/60 [==============================] - 1s 10ms/step - loss: 0.2605 - acc: 0.9040 - val_loss: 0.5442 - val_acc: 0.8451\n",
      "Epoch 96/100\n",
      "60/60 [==============================] - 1s 10ms/step - loss: 0.2589 - acc: 0.9056 - val_loss: 0.5381 - val_acc: 0.8448\n",
      "Epoch 97/100\n",
      "60/60 [==============================] - 1s 9ms/step - loss: 0.2595 - acc: 0.9057 - val_loss: 0.5345 - val_acc: 0.8435\n",
      "Epoch 98/100\n",
      "60/60 [==============================] - 1s 9ms/step - loss: 0.2600 - acc: 0.9056 - val_loss: 0.5413 - val_acc: 0.8447\n",
      "Epoch 99/100\n",
      "60/60 [==============================] - 1s 10ms/step - loss: 0.2588 - acc: 0.9059 - val_loss: 0.5421 - val_acc: 0.8431\n",
      "Epoch 100/100\n",
      "60/60 [==============================] - 1s 9ms/step - loss: 0.2579 - acc: 0.9043 - val_loss: 0.5443 - val_acc: 0.8487\n"
     ]
    }
   ],
   "source": [
    "# Optimisation du modèle \n",
    "\n",
    "opt = keras.optimizers.Adam(learning_rate=0.001) \n",
    "\n",
    "model.compile(loss='categorical_crossentropy',\n",
    "              optimizer=opt,\n",
    "              metrics=['acc'])\n",
    "\n",
    "history = model.fit(images_train, y_train,\n",
    "          epochs=100,\n",
    "          validation_data=(images_test, y_test),\n",
    "          batch_size=1_000)"
   ]
  },
  {
   "cell_type": "markdown",
   "metadata": {
    "id": "_6wCszN6HX4V"
   },
   "source": [
    "# Analyse des résultats"
   ]
  },
  {
   "cell_type": "code",
   "execution_count": 121,
   "metadata": {
    "id": "NPdJ429vHYCp"
   },
   "outputs": [
    {
     "name": "stdout",
     "output_type": "stream",
     "text": [
      " 17/313 [>.............................] - ETA: 2s - loss: 0.5241 - acc: 0.8548"
     ]
    },
    {
     "name": "stderr",
     "output_type": "stream",
     "text": [
      "2022-06-23 17:50:30.819869: I tensorflow/core/grappler/optimizers/custom_graph_optimizer_registry.cc:113] Plugin optimizer for device_type GPU is enabled.\n"
     ]
    },
    {
     "name": "stdout",
     "output_type": "stream",
     "text": [
      "313/313 [==============================] - 2s 7ms/step - loss: 0.5443 - acc: 0.8487\n"
     ]
    },
    {
     "data": {
      "text/plain": [
       "[0.5442966222763062, 0.8487000465393066]"
      ]
     },
     "execution_count": 121,
     "metadata": {},
     "output_type": "execute_result"
    }
   ],
   "source": [
    "model.evaluate(images_test, y_test)"
   ]
  },
  {
   "cell_type": "code",
   "execution_count": null,
   "metadata": {},
   "outputs": [],
   "source": []
  }
 ],
 "metadata": {
  "colab": {
   "collapsed_sections": [],
   "name": "MLP_ModIA_TP3.ipynb",
   "provenance": []
  },
  "kernelspec": {
   "display_name": "Python 3.10.4 ('ml')",
   "language": "python",
   "name": "python3"
  },
  "language_info": {
   "codemirror_mode": {
    "name": "ipython",
    "version": 3
   },
   "file_extension": ".py",
   "mimetype": "text/x-python",
   "name": "python",
   "nbconvert_exporter": "python",
   "pygments_lexer": "ipython3",
   "version": "3.10.4"
  },
  "vscode": {
   "interpreter": {
    "hash": "08eac26dc1f80337b7d87e94e7159a5bad95c2e85f47efef91c61359b3afbfe9"
   }
  }
 },
 "nbformat": 4,
 "nbformat_minor": 1
}
