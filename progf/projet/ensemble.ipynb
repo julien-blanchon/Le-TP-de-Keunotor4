{
 "cells": [
  {
   "cell_type": "code",
   "execution_count": 2,
   "metadata": {
    "vscode": {
     "languageId": "ocaml"
    }
   },
   "outputs": [
    {
     "data": {
      "text/plain": [
       "type 'a set = 'a list\n"
      ]
     },
     "execution_count": 2,
     "metadata": {},
     "output_type": "execute_result"
    }
   ],
   "source": [
    "(* Exercice 1 *)\n",
    "type 'a set = 'a list"
   ]
  },
  {
   "cell_type": "code",
   "execution_count": 131,
   "metadata": {
    "vscode": {
     "languageId": "ocaml"
    }
   },
   "outputs": [
    {
     "data": {
      "text/plain": [
       "val ajouter : 'a -> 'a list -> 'a list = <fun>\n"
      ]
     },
     "execution_count": 131,
     "metadata": {},
     "output_type": "execute_result"
    },
    {
     "data": {
      "text/plain": [
       "val ajouter : 'a -> 'a list -> 'a list = <fun>\n"
      ]
     },
     "execution_count": 131,
     "metadata": {},
     "output_type": "execute_result"
    },
    {
     "data": {
      "text/plain": [
       "val rechercher : 'a -> 'a list -> bool = <fun>\n"
      ]
     },
     "execution_count": 131,
     "metadata": {},
     "output_type": "execute_result"
    },
    {
     "data": {
      "text/plain": [
       "val retirer : 'a -> 'a list -> 'a list = <fun>\n"
      ]
     },
     "execution_count": 131,
     "metadata": {},
     "output_type": "execute_result"
    }
   ],
   "source": [
    "(* Exercice 2 *)\n",
    "\n",
    "(*CONTRAT\n",
    "Fonction qui ajoute un élément dans une ensemble\n",
    "Type : 'a -> 'a set -> 'a set\n",
    "Paramètre : element, l'élement à ajouter\n",
    "Paramètre : set, l'ensemble dans lequel ajouter element\n",
    "Résultat : l'ensemble avec les éléments de set et element\n",
    "*)\n",
    "let ajouter element set = element::set\n",
    "\n",
    "let rec ajouter element set =\n",
    "  match set with\n",
    "  | [] -> [element]\n",
    "  | [e] -> [e; element]\n",
    "  | t::q -> if (t!=element)\n",
    "           then t::(ajouter element q)\n",
    "           else t::q\n",
    "\n",
    "(*CONTRAT\n",
    "Fonction qui recherche un élément dans ensemble\n",
    "Type : 'a -> 'a set -> 'a set\n",
    "Paramètre : element, l'élément à rechercher\n",
    "Paramètre : set, l'ensemble dans lequel rechercher element\n",
    "Résultat : true si l'element est présent dans set, false sinon\n",
    "*)\n",
    "let rechercher element set = List.mem element set\n",
    "\n",
    "\n",
    "(*CONTRAT\n",
    "Fonction qui retire un élément d'un ensemble\n",
    "Type : 'a -> 'a set -> 'a set\n",
    "Paramètre : element, l'élément à retirer\n",
    "Paramètre : set, l'ensemble dans lequel retirer element\n",
    "Résultat : l'ensemble avec les éléments de set mais sans element\n",
    "*)\n",
    "let retirer element set = List.filter (fun a -> not(a=element)) set"
   ]
  },
  {
   "cell_type": "code",
   "execution_count": 133,
   "metadata": {
    "vscode": {
     "languageId": "ocaml"
    }
   },
   "outputs": [
    {
     "data": {
      "text/plain": [
       "val filter : ('a -> bool) -> 'a list -> 'a list = <fun>\n"
      ]
     },
     "execution_count": 133,
     "metadata": {},
     "output_type": "execute_result"
    }
   ],
   "source": [
    "(* Exercice 3 *)\n",
    "let filter condition set = List.filter condition set"
   ]
  },
  {
   "cell_type": "code",
   "execution_count": 134,
   "metadata": {
    "vscode": {
     "languageId": "ocaml"
    }
   },
   "outputs": [
    {
     "data": {
      "text/plain": [
       "type 'a graph = Graph of ('a list * ('a * 'a) list)\n"
      ]
     },
     "execution_count": 134,
     "metadata": {},
     "output_type": "execute_result"
    }
   ],
   "source": [
    "(* Exercice 4 *)\n",
    "type 'a graph = Graph of (('a list) * ('a*'a) list)\n",
    "\n",
    "(* type 'a graph = (('a * ('a set)) set) *)\n",
    "(*************** Noeud * Arrete *************)"
   ]
  },
  {
   "cell_type": "code",
   "execution_count": 135,
   "metadata": {
    "vscode": {
     "languageId": "ocaml"
    }
   },
   "outputs": [
    {
     "data": {
      "text/plain": [
       "val graph1 : int graph = Graph ([0; 1; 2], [(0, 1); (2, 3)])\n"
      ]
     },
     "execution_count": 135,
     "metadata": {},
     "output_type": "execute_result"
    }
   ],
   "source": [
    "let graph1 = Graph(\n",
    "  [0; 1; 2],\n",
    "  [(0,1); (2,3)]\n",
    ")\n",
    "\n",
    "(* let graph1 = [(0, [1]); (1, []); (2, [3])] *)"
   ]
  },
  {
   "cell_type": "code",
   "execution_count": 136,
   "metadata": {
    "vscode": {
     "languageId": "ocaml"
    }
   },
   "outputs": [
    {
     "data": {
      "text/plain": [
       "val ajouter_noeud : 'a -> 'a graph -> 'a graph = <fun>\n"
      ]
     },
     "execution_count": 136,
     "metadata": {},
     "output_type": "execute_result"
    }
   ],
   "source": [
    "(* Exercice 5 *)\n",
    "let ajouter_noeud n (Graph(noeuds, arretes)) = \n",
    "  Graph(\n",
    "    ajouter n noeuds,\n",
    "    arretes\n",
    "  )"
   ]
  },
  {
   "cell_type": "code",
   "execution_count": 137,
   "metadata": {
    "vscode": {
     "languageId": "ocaml"
    }
   },
   "outputs": [
    {
     "data": {
      "text/plain": [
       "- : int graph = Graph ([0; 1; 2; 9], [(0, 1); (2, 3)])\n"
      ]
     },
     "execution_count": 137,
     "metadata": {},
     "output_type": "execute_result"
    }
   ],
   "source": [
    "ajouter_noeud 9 graph1"
   ]
  },
  {
   "cell_type": "code",
   "execution_count": 138,
   "metadata": {
    "vscode": {
     "languageId": "ocaml"
    }
   },
   "outputs": [
    {
     "data": {
      "text/plain": [
       "val retirer_noeud : 'a -> 'a graph -> 'a graph = <fun>\n"
      ]
     },
     "execution_count": 138,
     "metadata": {},
     "output_type": "execute_result"
    }
   ],
   "source": [
    "let retirer_noeud n (Graph(noeuds, arretes)) = \n",
    "  Graph(\n",
    "    retirer n noeuds,\n",
    "    filter (fun (a,b) -> a!=n && b!=n) arretes\n",
    "  )"
   ]
  },
  {
   "cell_type": "code",
   "execution_count": 139,
   "metadata": {
    "vscode": {
     "languageId": "ocaml"
    }
   },
   "outputs": [
    {
     "data": {
      "text/plain": [
       "- : int graph = Graph ([1; 2], [(2, 3)])\n"
      ]
     },
     "execution_count": 139,
     "metadata": {},
     "output_type": "execute_result"
    }
   ],
   "source": [
    "retirer_noeud 0 graph1"
   ]
  },
  {
   "cell_type": "code",
   "execution_count": 140,
   "metadata": {
    "vscode": {
     "languageId": "ocaml"
    }
   },
   "outputs": [
    {
     "data": {
      "text/plain": [
       "val retirer_arrete : 'a * 'a -> 'a graph -> 'a graph = <fun>\n"
      ]
     },
     "execution_count": 140,
     "metadata": {},
     "output_type": "execute_result"
    }
   ],
   "source": [
    "let retirer_arrete arrete (Graph(noeuds, arretes)) = \n",
    "  Graph(\n",
    "    noeuds,\n",
    "    retirer arrete arretes\n",
    "  )"
   ]
  },
  {
   "cell_type": "code",
   "execution_count": 141,
   "metadata": {
    "vscode": {
     "languageId": "ocaml"
    }
   },
   "outputs": [
    {
     "data": {
      "text/plain": [
       "- : int graph = Graph ([0; 1; 2], [(0, 1); (2, 3)])\n"
      ]
     },
     "execution_count": 141,
     "metadata": {},
     "output_type": "execute_result"
    }
   ],
   "source": [
    "graph1"
   ]
  },
  {
   "cell_type": "code",
   "execution_count": 142,
   "metadata": {
    "vscode": {
     "languageId": "ocaml"
    }
   },
   "outputs": [
    {
     "data": {
      "text/plain": [
       "- : int graph = Graph ([0; 1; 2], [(0, 1)])\n"
      ]
     },
     "execution_count": 142,
     "metadata": {},
     "output_type": "execute_result"
    }
   ],
   "source": [
    "retirer_arrete (2, 3) graph1"
   ]
  },
  {
   "cell_type": "code",
   "execution_count": 149,
   "metadata": {
    "vscode": {
     "languageId": "ocaml"
    }
   },
   "outputs": [
    {
     "data": {
      "text/plain": [
       "type 'a jeu = (bool * bool * 'a * int) graph\n"
      ]
     },
     "execution_count": 149,
     "metadata": {},
     "output_type": "execute_result"
    }
   ],
   "source": [
    "(* Exercice 6 *)\n",
    "type 'a jeu = ((bool)*(bool)*('a)*(int)) graph\n",
    "(*********************win1, win2, state, to_play**********)"
   ]
  },
  {
   "cell_type": "code",
   "execution_count": 150,
   "metadata": {
    "vscode": {
     "languageId": "ocaml"
    }
   },
   "outputs": [
    {
     "data": {
      "text/plain": [
       "type noeud_jeu = bool * bool * int * int\n"
      ]
     },
     "execution_count": 150,
     "metadata": {},
     "output_type": "execute_result"
    },
    {
     "data": {
      "text/plain": [
       "type graph_jeu = noeud_jeu graph\n"
      ]
     },
     "execution_count": 150,
     "metadata": {},
     "output_type": "execute_result"
    },
    {
     "data": {
      "text/plain": [
       "type init_jeu = noeud_jeu\n"
      ]
     },
     "execution_count": 150,
     "metadata": {},
     "output_type": "execute_result"
    },
    {
     "data": {
      "text/plain": [
       "type jeu = init_jeu * graph_jeu\n"
      ]
     },
     "execution_count": 150,
     "metadata": {},
     "output_type": "execute_result"
    }
   ],
   "source": [
    "(* Exercice 6 *)\n",
    "type noeud_jeu = (bool*bool*int*int)\n",
    "type graph_jeu = noeud_jeu graph\n",
    "type init_jeu = noeud_jeu\n",
    "\n",
    "type jeu = init_jeu*graph_jeu"
   ]
  },
  {
   "cell_type": "code",
   "execution_count": 151,
   "metadata": {
    "vscode": {
     "languageId": "ocaml"
    }
   },
   "outputs": [
    {
     "data": {
      "text/plain": [
       "val state14_jeu1 : bool * bool * int * int = (false, false, 1, 4)\n"
      ]
     },
     "execution_count": 151,
     "metadata": {},
     "output_type": "execute_result"
    },
    {
     "data": {
      "text/plain": [
       "val state22_jeu1 : bool * bool * int * int = (false, false, 2, 2)\n"
      ]
     },
     "execution_count": 151,
     "metadata": {},
     "output_type": "execute_result"
    },
    {
     "data": {
      "text/plain": [
       "val state23_jeu1 : bool * bool * int * int = (false, false, 2, 3)\n"
      ]
     },
     "execution_count": 151,
     "metadata": {},
     "output_type": "execute_result"
    },
    {
     "data": {
      "text/plain": [
       "val state10_jeu1 : bool * bool * int * int = (true, false, 1, 0)\n"
      ]
     },
     "execution_count": 151,
     "metadata": {},
     "output_type": "execute_result"
    },
    {
     "data": {
      "text/plain": [
       "val state11_jeu1 : bool * bool * int * int = (false, false, 1, 1)\n"
      ]
     },
     "execution_count": 151,
     "metadata": {},
     "output_type": "execute_result"
    },
    {
     "data": {
      "text/plain": [
       "val state12_jeu1 : bool * bool * int * int = (false, false, 1, 2)\n"
      ]
     },
     "execution_count": 151,
     "metadata": {},
     "output_type": "execute_result"
    },
    {
     "data": {
      "text/plain": [
       "val state20_jeu1 : bool * bool * int * int = (true, false, 2, 0)\n"
      ]
     },
     "execution_count": 151,
     "metadata": {},
     "output_type": "execute_result"
    },
    {
     "data": {
      "text/plain": [
       "val state21_jeu1 : bool * bool * int * int = (false, false, 2, 1)\n"
      ]
     },
     "execution_count": 151,
     "metadata": {},
     "output_type": "execute_result"
    },
    {
     "data": {
      "text/plain": [
       "val graph_jeu1 : (bool * bool * int * int) graph =\n",
       "  Graph\n",
       "   ([(false, false, 1, 4); (false, false, 1, 4); (false, false, 2, 2);\n",
       "     (false, false, 2, 3); (true, false, 1, 0); (false, false, 1, 1);\n",
       "     (false, false, 1, 2); (true, false, 2, 0); (false, false, 2, 1)],\n",
       "    [((false, false, 1, 4), (false, false, 2, 2));\n",
       "     ((false, false, 1, 4), (false, false, 2, 3));\n",
       "     ((false, false, 2, 2), (true, false, 1, 0));\n",
       "     ((false, false, 2, 2), (false, false, 1, 1));\n",
       "     ((false, false, 2, 3), (false, false, 1, 1));\n",
       "     ((false, false, 2, 3), (false, false, 1, 2));\n",
       "     ((false, false, 2, 3), (false, false, 1, 1));\n",
       "     ((false, false, 2, 3), (false, false, 1, 2));\n",
       "     ((false, false, 1, 1), (true, false, 2, 0));\n",
       "     ((false, false, 1, 2), (true, false, 2, 0));\n",
       "     ((false, false, 1, 2), (false, false, 2, 1));\n",
       "     ((false, false, 2, 1), (true, false, 1, 0))])\n"
      ]
     },
     "execution_count": 151,
     "metadata": {},
     "output_type": "execute_result"
    },
    {
     "data": {
      "text/plain": [
       "val init_jeu1 : bool * bool * int * int = (false, false, 1, 4)\n"
      ]
     },
     "execution_count": 151,
     "metadata": {},
     "output_type": "execute_result"
    },
    {
     "data": {
      "text/plain": [
       "val jeu1 : (bool * bool * int * int) * (bool * bool * int * int) graph =\n",
       "  ((false, false, 1, 4),\n",
       "   Graph\n",
       "    ([(false, false, 1, 4); (false, false, 1, 4); (false, false, 2, 2);\n",
       "      (false, false, 2, 3); (true, false, 1, 0); (false, false, 1, 1);\n",
       "      (false, false, 1, 2); (true, false, 2, 0); (false, false, 2, 1)],\n",
       "     [((false, false, 1, 4), (false, false, 2, 2));\n",
       "      ((false, false, 1, 4), (false, false, 2, 3));\n",
       "      ((false, false, 2, 2), (true, false, 1, 0));\n",
       "      ((false, false, 2, 2), (false, false, 1, 1));\n",
       "      ((false, false, 2, 3), (false, false, 1, 1));\n",
       "      ((false, false, 2, 3), (false, false, 1, 2));\n",
       "      ((false, false, 2, 3), (false, false, 1, 1));\n",
       "      ((false, false, 2, 3), (false, false, 1, 2));\n",
       "      ((false, false, 1, 1), (true, false, 2, 0));\n",
       "      ((false, false, 1, 2), (true, false, 2, 0));\n",
       "      ((false, false, 1, 2), (false, false, 2, 1));\n",
       "      ((false, false, 2, 1), (true, false, 1, 0))]))\n"
      ]
     },
     "execution_count": 151,
     "metadata": {},
     "output_type": "execute_result"
    }
   ],
   "source": [
    "let state14_jeu1 = (false, false, 1, 4)\n",
    "let state22_jeu1 = (false, false, 2, 2)\n",
    "let state23_jeu1 = (false, false, 2, 3)\n",
    "let state10_jeu1 = (true, false, 1, 0)\n",
    "let state11_jeu1 = (false, false, 1, 1)\n",
    "let state12_jeu1 = (false, false, 1, 2)\n",
    "let state20_jeu1 = (true, false, 2, 0)\n",
    "let state21_jeu1 = (false, false, 2, 1)\n",
    "\n",
    "\n",
    "let graph_jeu1 = Graph(\n",
    "  [state14_jeu1; state14_jeu1; state22_jeu1; state23_jeu1; state10_jeu1; state11_jeu1; state12_jeu1; state20_jeu1; state21_jeu1],\n",
    "  [\n",
    "    (state14_jeu1, state22_jeu1); (state14_jeu1, state23_jeu1);\n",
    "    (state22_jeu1, state10_jeu1); (state22_jeu1, state11_jeu1);\n",
    "    (state23_jeu1, state11_jeu1); (state23_jeu1, state12_jeu1);\n",
    "    (state23_jeu1, state11_jeu1); (state23_jeu1, state12_jeu1);\n",
    "    (state11_jeu1, state20_jeu1);\n",
    "    (state12_jeu1, state20_jeu1); (state12_jeu1, state21_jeu1);\n",
    "    (state21_jeu1, state10_jeu1);\n",
    "  ]\n",
    ")\n",
    "\n",
    "let init_jeu1 = state14_jeu1\n",
    "\n",
    "let jeu1 = (init_jeu1, graph_jeu1) (* jeu ? *)"
   ]
  },
  {
   "cell_type": "code",
   "execution_count": 152,
   "metadata": {
    "vscode": {
     "languageId": "ocaml"
    }
   },
   "outputs": [
    {
     "data": {
      "text/plain": [
       "val chemin1 : ((bool * bool * int * int) * (bool * bool * int * int)) list =\n",
       "  [((false, false, 1, 4), (false, false, 2, 2));\n",
       "   ((false, false, 1, 4), (false, false, 2, 3));\n",
       "   ((false, false, 2, 2), (true, false, 1, 0));\n",
       "   ((false, false, 2, 2), (false, false, 1, 1))]\n"
      ]
     },
     "execution_count": 152,
     "metadata": {},
     "output_type": "execute_result"
    },
    {
     "data": {
      "text/plain": [
       "val chemin2 : ((bool * bool * int * int) * (bool * bool * int * int)) list =\n",
       "  [((false, false, 1, 4), (false, false, 2, 2));\n",
       "   ((false, false, 2, 2), (false, false, 1, 1));\n",
       "   ((false, false, 1, 1), (true, false, 2, 0))]\n"
      ]
     },
     "execution_count": 152,
     "metadata": {},
     "output_type": "execute_result"
    }
   ],
   "source": [
    "let chemin1 = [\n",
    "  (state14_jeu1, state22_jeu1); (state14_jeu1, state23_jeu1);\n",
    "  (state22_jeu1, state10_jeu1); (state22_jeu1, state11_jeu1);\n",
    "]\n",
    "\n",
    "let chemin2 = [\n",
    "  (state14_jeu1, state22_jeu1); (state22_jeu1, state11_jeu1);\n",
    "  (state11_jeu1, state20_jeu1)\n",
    "]"
   ]
  },
  {
   "cell_type": "code",
   "execution_count": 153,
   "metadata": {
    "vscode": {
     "languageId": "ocaml"
    }
   },
   "outputs": [
    {
     "data": {
      "text/plain": [
       "val cc : ((bool * bool * int * int) * (bool * bool * int * int)) list =\n",
       "  [((false, false, 1, 4), (false, false, 2, 2));\n",
       "   ((false, false, 1, 4), (false, false, 2, 3));\n",
       "   ((false, false, 2, 2), (true, false, 1, 0));\n",
       "   ((false, false, 2, 2), (false, false, 1, 1));\n",
       "   ((false, false, 2, 3), (false, false, 1, 1));\n",
       "   ((false, false, 2, 3), (false, false, 1, 2));\n",
       "   ((false, false, 2, 3), (false, false, 1, 1));\n",
       "   ((false, false, 2, 3), (false, false, 1, 2));\n",
       "   ((false, false, 1, 1), (true, false, 2, 0));\n",
       "   ((false, false, 1, 2), (true, false, 2, 0));\n",
       "   ((false, false, 1, 2), (false, false, 2, 1));\n",
       "   ((false, false, 2, 1), (true, false, 1, 0))]\n"
      ]
     },
     "execution_count": 153,
     "metadata": {},
     "output_type": "execute_result"
    }
   ],
   "source": [
    "let cc = [\n",
    "    (state14_jeu1, state22_jeu1); (state14_jeu1, state23_jeu1);\n",
    "    (state22_jeu1, state10_jeu1); (state22_jeu1, state11_jeu1);\n",
    "    (state23_jeu1, state11_jeu1); (state23_jeu1, state12_jeu1);\n",
    "    (state23_jeu1, state11_jeu1); (state23_jeu1, state12_jeu1);\n",
    "    (state11_jeu1, state20_jeu1);\n",
    "    (state12_jeu1, state20_jeu1); (state12_jeu1, state21_jeu1);\n",
    "    (state21_jeu1, state10_jeu1);\n",
    "  ]"
   ]
  },
  {
   "cell_type": "code",
   "execution_count": 167,
   "metadata": {
    "vscode": {
     "languageId": "ocaml"
    }
   },
   "outputs": [
    {
     "data": {
      "text/plain": [
       "val chemin_possible : ('a * 'a) list -> ('a * 'a) list -> bool = <fun>\n"
      ]
     },
     "execution_count": 167,
     "metadata": {},
     "output_type": "execute_result"
    }
   ],
   "source": [
    "let rec chemin_possible graph_jeu chemin =\n",
    "  match chemin with\n",
    "    | [] -> true\n",
    "    | [e] -> rechercher e graph_jeu\n",
    "    | (s11, s12)::(s21, s22)::q -> \n",
    "      (s12=s21) &&\n",
    "      (rechercher (s11, s12) graph_jeu) &&\n",
    "      (rechercher (s21, s22) graph_jeu) &&\n",
    "      (chemin_possible graph_jeu q)"
   ]
  },
  {
   "cell_type": "code",
   "execution_count": 168,
   "metadata": {
    "vscode": {
     "languageId": "ocaml"
    }
   },
   "outputs": [
    {
     "data": {
      "text/plain": [
       "- : bool = false\n"
      ]
     },
     "execution_count": 168,
     "metadata": {},
     "output_type": "execute_result"
    }
   ],
   "source": [
    "chemin_possible cc chemin1"
   ]
  },
  {
   "cell_type": "code",
   "execution_count": 169,
   "metadata": {
    "vscode": {
     "languageId": "ocaml"
    }
   },
   "outputs": [
    {
     "data": {
      "text/plain": [
       "- : bool = true\n"
      ]
     },
     "execution_count": 169,
     "metadata": {},
     "output_type": "execute_result"
    }
   ],
   "source": [
    "chemin_possible cc chemin2"
   ]
  }
 ],
 "metadata": {
  "kernelspec": {
   "display_name": "OCaml default",
   "language": "OCaml",
   "name": "ocaml-jupyter"
  },
  "language_info": {
   "codemirror_mode": "text/x-ocaml",
   "file_extension": ".ml",
   "mimetype": "text/x-ocaml",
   "name": "OCaml",
   "nbconverter_exporter": null,
   "pygments_lexer": "OCaml",
   "version": "4.12.0"
  },
  "orig_nbformat": 4
 },
 "nbformat": 4,
 "nbformat_minor": 2
}
