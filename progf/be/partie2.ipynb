{
 "cells": [
  {
   "cell_type": "code",
   "execution_count": 53,
   "metadata": {
    "vscode": {
     "languageId": "ocaml"
    }
   },
   "outputs": [
    {
     "data": {
      "text/plain": [
       "type formule =\n",
       "    Const of bool\n",
       "  | Et of formule * formule\n",
       "  | Ou of formule * formule\n",
       "  | Non of formule\n"
      ]
     },
     "execution_count": 53,
     "metadata": {},
     "output_type": "execute_result"
    },
    {
     "data": {
      "text/plain": [
       "type valuation = formule -> bool\n"
      ]
     },
     "execution_count": 53,
     "metadata": {},
     "output_type": "execute_result"
    },
    {
     "data": {
      "text/plain": [
       "val eval : formule -> bool = <fun>\n"
      ]
     },
     "execution_count": 53,
     "metadata": {},
     "output_type": "execute_result"
    }
   ],
   "source": [
    "(* Exercice 8 *)\n",
    "type formule =\n",
    "  | Bool of bool\n",
    "  | Et of formule * formule\n",
    "  | Ou of formule * formule\n",
    "  | Non of formule\n",
    "\n",
    "type valuation = formule -> bool\n",
    "\n",
    "let rec eval e =\n",
    "  match e with\n",
    "  | Bool c -> c\n",
    "  | Et (e1, e2) -> (eval e1) && (eval e2)\n",
    "  | Ou (e1, e2) -> (eval e1) || (eval e2)\n",
    "  | Non e1 -> not (eval e1)"
   ]
  },
  {
   "cell_type": "code",
   "execution_count": 55,
   "metadata": {
    "vscode": {
     "languageId": "ocaml"
    }
   },
   "outputs": [
    {
     "data": {
      "text/plain": [
       "type formule =\n",
       "    Definition of string * formule * formule\n",
       "  | Identifiant of string\n",
       "  | Bool of bool\n",
       "  | Et of formule * formule\n",
       "  | Ou of formule * formule\n",
       "  | Non of formule\n"
      ]
     },
     "execution_count": 55,
     "metadata": {},
     "output_type": "execute_result"
    },
    {
     "data": {
      "text/plain": [
       "type valuation = formule -> bool\n"
      ]
     },
     "execution_count": 55,
     "metadata": {},
     "output_type": "execute_result"
    },
    {
     "data": {
      "text/plain": [
       "val eval : formule -> bool = <fun>\n"
      ]
     },
     "execution_count": 55,
     "metadata": {},
     "output_type": "execute_result"
    }
   ],
   "source": [
    "(* Exercice 8 *)\n",
    "type formule =\n",
    "  | Definition of string*formule*formule\n",
    "  | Identifiant of string\n",
    "  | Bool of bool\n",
    "  | Et of formule * formule\n",
    "  | Ou of formule * formule\n",
    "  | Non of formule\n",
    "\n",
    "type valuation = formule -> bool\n",
    "\n",
    "let rec eval exp =\n",
    "  let rec aux exp env =\n",
    "    match exp with\n",
    "    | Definition (i, def, e) -> aux e ((i,aux def env)::env)\n",
    "    | Identifiant id -> List.assoc id env\n",
    "    | Bool c -> c\n",
    "    | Et (e1, e2) -> (aux e1 env) && (aux e2 env)\n",
    "    | Ou (e1, e2) -> (aux e1 env) || (aux e2 env)\n",
    "    | Non e1 -> not (aux e1 env)\n",
    "  in aux exp []"
   ]
  },
  {
   "cell_type": "code",
   "execution_count": 62,
   "metadata": {
    "vscode": {
     "languageId": "ocaml"
    }
   },
   "outputs": [
    {
     "data": {
      "text/plain": [
       "val f : formule = Bool true\n"
      ]
     },
     "execution_count": 62,
     "metadata": {},
     "output_type": "execute_result"
    }
   ],
   "source": [
    "let f = Bool true"
   ]
  },
  {
   "cell_type": "code",
   "execution_count": 63,
   "metadata": {
    "vscode": {
     "languageId": "ocaml"
    }
   },
   "outputs": [
    {
     "data": {
      "text/plain": [
       "- : bool = true\n"
      ]
     },
     "execution_count": 63,
     "metadata": {},
     "output_type": "execute_result"
    }
   ],
   "source": [
    "eval f"
   ]
  },
  {
   "cell_type": "code",
   "execution_count": null,
   "metadata": {
    "vscode": {
     "languageId": "ocaml"
    }
   },
   "outputs": [],
   "source": [
    "let satisfait f = "
   ]
  },
  {
   "cell_type": "code",
   "execution_count": 1,
   "metadata": {
    "vscode": {
     "languageId": "ocaml"
    }
   },
   "outputs": [
    {
     "data": {
      "text/plain": [
       "module type Formule =\n",
       "  sig\n",
       "    type t\n",
       "    val const : bool -> t\n",
       "    val et : t -> t -> t\n",
       "    val ou : t -> t -> t\n",
       "    val non : t -> t\n",
       "  end\n"
      ]
     },
     "execution_count": 1,
     "metadata": {},
     "output_type": "execute_result"
    },
    {
     "data": {
      "text/plain": [
       "type formule_bool = (module Formule with type t = bool)\n"
      ]
     },
     "execution_count": 1,
     "metadata": {},
     "output_type": "execute_result"
    },
    {
     "data": {
      "text/plain": [
       "type formule = formule_bool -> bool\n"
      ]
     },
     "execution_count": 1,
     "metadata": {},
     "output_type": "execute_result"
    }
   ],
   "source": [
    "(* Exercice 8 *)\n",
    "module type Formule =\n",
    "sig\n",
    "  (* bool *)\n",
    "  type t\n",
    "  val const : bool -> t\n",
    "  val et : t -> t -> t\n",
    "  val ou : t -> t -> t\n",
    "  val non : t -> t\n",
    "end\n",
    "\n",
    "type formule_bool = (module Formule with type t = bool)\n",
    "\n",
    "type formule = formule_bool -> bool"
   ]
  },
  {
   "cell_type": "code",
   "execution_count": 16,
   "metadata": {
    "vscode": {
     "languageId": "ocaml"
    }
   },
   "outputs": [
    {
     "data": {
      "text/plain": [
       "module Valuation :\n",
       "  sig\n",
       "    type t = bool\n",
       "    val const : bool -> t\n",
       "    val et : t -> t -> t\n",
       "    val ou : t -> t -> t\n",
       "    val non : t -> t\n",
       "  end\n"
      ]
     },
     "execution_count": 16,
     "metadata": {},
     "output_type": "execute_result"
    }
   ],
   "source": [
    "module Valuation : Formule with type t = bool =\n",
    "struct\n",
    "  type t = bool\n",
    "  let const c = c\n",
    "  let et a b = a&&b\n",
    "  let ou a b = a||b\n",
    "  let non a = not a\n",
    "end"
   ]
  },
  {
   "cell_type": "code",
   "execution_count": 28,
   "metadata": {
    "vscode": {
     "languageId": "ocaml"
    }
   },
   "outputs": [
    {
     "data": {
      "text/plain": [
       "val evaluer : formule -> bool = <fun>\n"
      ]
     },
     "execution_count": 28,
     "metadata": {},
     "output_type": "execute_result"
    }
   ],
   "source": [
    "(* Exercice 9 *)\n",
    "let evaluer (f: formule) = f (module Valuation)"
   ]
  },
  {
   "cell_type": "code",
   "execution_count": 29,
   "metadata": {
    "vscode": {
     "languageId": "ocaml"
    }
   },
   "outputs": [
    {
     "data": {
      "text/plain": [
       "val e1 : (module Formule with type t = 'bool) -> 'bool = <fun>\n"
      ]
     },
     "execution_count": 29,
     "metadata": {},
     "output_type": "execute_result"
    }
   ],
   "source": [
    "let e1 (type bool) (module F : Formule with type t=bool) = (F.const true)"
   ]
  },
  {
   "cell_type": "code",
   "execution_count": 30,
   "metadata": {
    "vscode": {
     "languageId": "ocaml"
    }
   },
   "outputs": [
    {
     "data": {
      "text/plain": [
       "- : bool = true\n"
      ]
     },
     "execution_count": 30,
     "metadata": {},
     "output_type": "execute_result"
    }
   ],
   "source": [
    "evaluer e1"
   ]
  },
  {
   "cell_type": "code",
   "execution_count": 7,
   "metadata": {
    "vscode": {
     "languageId": "ocaml"
    }
   },
   "outputs": [
    {
     "data": {
      "text/plain": [
       "- : (module Formule with type t = 'bool) -> 'bool = <fun>\n"
      ]
     },
     "execution_count": 7,
     "metadata": {},
     "output_type": "execute_result"
    }
   ],
   "source": [
    "e1"
   ]
  },
  {
   "cell_type": "code",
   "execution_count": 17,
   "metadata": {
    "vscode": {
     "languageId": "ocaml"
    }
   },
   "outputs": [
    {
     "data": {
      "text/plain": [
       "module type FormuleVar =\n",
       "  sig\n",
       "    type t\n",
       "    type tname = string\n",
       "    val var : tname -> t\n",
       "    val def : tname * t -> t -> t\n",
       "  end\n"
      ]
     },
     "execution_count": 17,
     "metadata": {},
     "output_type": "execute_result"
    }
   ],
   "source": [
    "module type FormuleVar =\n",
    "sig\n",
    "  type t\n",
    "  type tname = string\n",
    "  val var : tname -> t\n",
    "  val def : (tname * t) -> t -> t \n",
    "end"
   ]
  },
  {
   "cell_type": "code",
   "execution_count": 19,
   "metadata": {
    "vscode": {
     "languageId": "ocaml"
    }
   },
   "outputs": [
    {
     "data": {
      "text/plain": [
       "module type FormuleLet =\n",
       "  sig\n",
       "    type t\n",
       "    val const : bool -> t\n",
       "    val et : t -> t -> t\n",
       "    val ou : t -> t -> t\n",
       "    val non : t -> t\n",
       "    type tname = string\n",
       "    val var : tname -> t\n",
       "    val def : tname * t -> t -> t\n",
       "  end\n"
      ]
     },
     "execution_count": 19,
     "metadata": {},
     "output_type": "execute_result"
    }
   ],
   "source": [
    "module type FormuleLet =\n",
    "sig\n",
    "  include Formule\n",
    "  (* on définit le type t de ExprVar comme étant celui de Exprsimple *)\n",
    "  include (FormuleVar with type t := t)\n",
    "end"
   ]
  },
  {
   "cell_type": "code",
   "execution_count": 32,
   "metadata": {
    "vscode": {
     "languageId": "ocaml"
    }
   },
   "outputs": [
    {
     "ename": "error",
     "evalue": "compile_error",
     "output_type": "error",
     "traceback": [
      "File \"[32]\", line 1, characters 59-73:\n1 | let e1 (type bool) (module F : Formule with type t=bool) = (F.const true)\n                                                               ^^^^^^^^^^^^^^\nError: This expression has type bool\n       This is not a function; it cannot be applied.\n"
     ]
    }
   ],
   "source": [
    "let e1 (type bool) (module F : Formule with type t=bool) = (F.const true)\n",
    "evaluer e1"
   ]
  },
  {
   "cell_type": "code",
   "execution_count": null,
   "metadata": {
    "vscode": {
     "languageId": "ocaml"
    }
   },
   "outputs": [],
   "source": []
  }
 ],
 "metadata": {
  "kernelspec": {
   "display_name": "OCaml default",
   "language": "OCaml",
   "name": "ocaml-jupyter"
  },
  "language_info": {
   "codemirror_mode": "text/x-ocaml",
   "file_extension": ".ml",
   "mimetype": "text/x-ocaml",
   "name": "OCaml",
   "nbconverter_exporter": null,
   "pygments_lexer": "OCaml",
   "version": "4.12.0"
  },
  "orig_nbformat": 4
 },
 "nbformat": 4,
 "nbformat_minor": 2
}
