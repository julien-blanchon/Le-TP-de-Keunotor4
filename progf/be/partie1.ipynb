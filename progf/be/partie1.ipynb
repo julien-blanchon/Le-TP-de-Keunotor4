{
 "cells": [
  {
   "cell_type": "code",
   "execution_count": 47,
   "metadata": {
    "vscode": {
     "languageId": "ocaml"
    }
   },
   "outputs": [
    {
     "data": {
      "text/plain": [
       "type arbre = Noeud of int * arbre list\n"
      ]
     },
     "execution_count": 47,
     "metadata": {},
     "output_type": "execute_result"
    }
   ],
   "source": [
    "(* Exercice 1 *)\n",
    "type arbre = Noeud of int * ( arbre list )\n",
    "(* and branche = (int * arbre) option *)"
   ]
  },
  {
   "cell_type": "code",
   "execution_count": 62,
   "metadata": {
    "vscode": {
     "languageId": "ocaml"
    }
   },
   "outputs": [
    {
     "data": {
      "text/plain": [
       "val mon_arbre : arbre =\n",
       "  Noeud (5,\n",
       "   [Noeud (2, [Noeud (1, []); Noeud (3, [])]); Noeud (8, [Noeud (7, [])])])\n"
      ]
     },
     "execution_count": 62,
     "metadata": {},
     "output_type": "execute_result"
    }
   ],
   "source": [
    "let mon_arbre = Noeud(5, \n",
    "  [\n",
    "    Noeud(2, \n",
    "      [\n",
    "        Noeud(1, \n",
    "          [\n",
    "            \n",
    "          ]\n",
    "        );\n",
    "        Noeud(3, \n",
    "          [\n",
    "            \n",
    "          ]\n",
    "        )\n",
    "      ]\n",
    "    );\n",
    "    Noeud(8, \n",
    "      [\n",
    "        Noeud(7, \n",
    "          [\n",
    "            \n",
    "          ]\n",
    "        )\n",
    "      ]\n",
    "    )\n",
    "  ]\n",
    ")"
   ]
  },
  {
   "cell_type": "code",
   "execution_count": 60,
   "metadata": {
    "vscode": {
     "languageId": "ocaml"
    }
   },
   "outputs": [
    {
     "data": {
      "text/plain": [
       "val inserer_list : arbre list -> int -> arbre list = <fun>\n"
      ]
     },
     "execution_count": 60,
     "metadata": {},
     "output_type": "execute_result"
    }
   ],
   "source": [
    "(* Exercice 2 *)\n",
    "\n",
    "(*CONTRAT\n",
    "Fonction qui insere une branche sous une autre si cela est possible \n",
    "(ie si la branche en question n'est pas dejà pleine)\n",
    "Type : arbre->int->arbre\n",
    "Paramètre : a  (arbre), arbre pour l'insertion\n",
    "Paramètre : e (int), l'élement à ajouter\n",
    "Résultat : l'arbre avec l'élement \n",
    "*)\n",
    "let rec inserer_list la e = \n",
    "  match la with\n",
    "    | [] ->  [Noeud(e, [])]\n",
    "    | [Noeud(n1, la1)] -> \n",
    "      if (n1<=e) then Noeud(e, [])::la\n",
    "      else inserer_list la1 e\n",
    "    | [Noeud(n1, la1); Noeud(n2, la2)] -> \n",
    "      if (n1<=e) then inserer_list la1 e\n",
    "      else inserer_list la2 e\n",
    "    | _ -> []"
   ]
  },
  {
   "cell_type": "code",
   "execution_count": 65,
   "metadata": {
    "vscode": {
     "languageId": "ocaml"
    }
   },
   "outputs": [
    {
     "data": {
      "text/plain": [
       "- : arbre list =\n",
       "[Noeud (10, []);\n",
       " Noeud (5,\n",
       "  [Noeud (2, [Noeud (1, []); Noeud (3, [])]); Noeud (8, [Noeud (7, [])])])]\n"
      ]
     },
     "execution_count": 65,
     "metadata": {},
     "output_type": "execute_result"
    }
   ],
   "source": [
    "inserer_list [mon_arbre] 10"
   ]
  },
  {
   "cell_type": "code",
   "execution_count": 66,
   "metadata": {
    "vscode": {
     "languageId": "ocaml"
    }
   },
   "outputs": [
    {
     "data": {
      "text/plain": [
       "- : arbre =\n",
       "Noeud (5,\n",
       " [Noeud (2, [Noeud (1, []); Noeud (3, [])]); Noeud (8, [Noeud (7, [])])])\n"
      ]
     },
     "execution_count": 66,
     "metadata": {},
     "output_type": "execute_result"
    }
   ],
   "source": [
    "mon_arbre"
   ]
  },
  {
   "cell_type": "code",
   "execution_count": null,
   "metadata": {
    "vscode": {
     "languageId": "ocaml"
    }
   },
   "outputs": [],
   "source": []
  }
 ],
 "metadata": {
  "kernelspec": {
   "display_name": "OCaml default",
   "language": "OCaml",
   "name": "ocaml-jupyter"
  },
  "language_info": {
   "codemirror_mode": "text/x-ocaml",
   "file_extension": ".ml",
   "mimetype": "text/x-ocaml",
   "name": "OCaml",
   "nbconverter_exporter": null,
   "pygments_lexer": "OCaml",
   "version": "4.12.0"
  },
  "orig_nbformat": 4
 },
 "nbformat": 4,
 "nbformat_minor": 2
}
