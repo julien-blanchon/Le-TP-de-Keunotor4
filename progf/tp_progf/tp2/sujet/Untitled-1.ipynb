{
 "cells": [
  {
   "cell_type": "code",
   "execution_count": 3,
   "metadata": {
    "vscode": {
     "languageId": "ocaml"
    }
   },
   "outputs": [
    {
     "data": {
      "text/plain": [
       "val insert : ('a -> 'a list -> bool) -> 'a -> 'a list -> 'a list = <fun>\n"
      ]
     },
     "execution_count": 3,
     "metadata": {},
     "output_type": "execute_result"
    }
   ],
   "source": [
    "(*CONTRAT\n",
    "Fonction qui ajoute un élément dans une liste triée, selon un ordre donné\n",
    "Type : ('a->'a->bool)->'a->'a list -> 'a list\n",
    "Paramètre : ordre  ('a->'a->bool), un ordre sur les éléments de la liste\n",
    "Paramètre : elt, l'élement à ajouter\n",
    "Paramètre : l, la liste triée dans laquelle ajouter elt\n",
    "Résultat : une liste triée avec les éléments de l, plus elt\n",
    "*)\n",
    "\n",
    "let rec insert ordre elt l = match l with\n",
    "| [] -> [elt]\n",
    "| t::q -> \n",
    "  if (ordre elt q)\n",
    "  then t::(insert ordre elt q)\n",
    "  else elt::q"
   ]
  },
  {
   "cell_type": "code",
   "execution_count": null,
   "metadata": {
    "vscode": {
     "languageId": "ocaml"
    }
   },
   "outputs": [],
   "source": []
  }
 ],
 "metadata": {
  "kernelspec": {
   "display_name": "OCaml default",
   "language": "OCaml",
   "name": "ocaml-jupyter"
  },
  "language_info": {
   "codemirror_mode": "text/x-ocaml",
   "file_extension": ".ml",
   "mimetype": "text/x-ocaml",
   "name": "OCaml",
   "nbconverter_exporter": null,
   "pygments_lexer": "OCaml",
   "version": "4.12.0"
  },
  "orig_nbformat": 4
 },
 "nbformat": 4,
 "nbformat_minor": 2
}
