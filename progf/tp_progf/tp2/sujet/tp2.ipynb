{
 "cells": [
  {
   "cell_type": "markdown",
   "metadata": {},
   "source": [
    "Exercice 1"
   ]
  },
  {
   "cell_type": "code",
   "execution_count": 16,
   "metadata": {
    "vscode": {
     "languageId": "ocaml"
    }
   },
   "outputs": [
    {
     "data": {
      "text/plain": [
       "val insert : ('a -> 'a -> bool) -> 'a -> 'a list -> 'a list = <fun>\n"
      ]
     },
     "execution_count": 16,
     "metadata": {},
     "output_type": "execute_result"
    }
   ],
   "source": [
    "(*CONTRAT\n",
    "Fonction qui ajoute un élément dans une liste triée, selon un ordre donné\n",
    "Type : ('a->'a->bool)->'a->'a list -> 'a list\n",
    "Paramètre : ordre  ('a->'a->bool), un ordre sur les éléments de la liste\n",
    "Paramètre : elt, l'élement à ajouter\n",
    "Paramètre : l, la liste triée dans laquelle ajouter elt\n",
    "Résultat : une liste triée avec les éléments de l, plus elt\n",
    "*)\n",
    "\n",
    "let rec insert ordre elt l = match l with\n",
    "| [] -> [elt]\n",
    "| t::q -> \n",
    "  if (ordre t elt)\n",
    "  then t::(insert ordre elt q)\n",
    "  else elt::l"
   ]
  },
  {
   "cell_type": "code",
   "execution_count": 17,
   "metadata": {
    "vscode": {
     "languageId": "ocaml"
    }
   },
   "outputs": [
    {
     "data": {
      "text/plain": [
       "- : int list = [3]\n"
      ]
     },
     "execution_count": 17,
     "metadata": {},
     "output_type": "execute_result"
    }
   ],
   "source": [
    "insert (fun x y -> x<y) 3 []"
   ]
  },
  {
   "cell_type": "code",
   "execution_count": 18,
   "metadata": {
    "vscode": {
     "languageId": "ocaml"
    }
   },
   "outputs": [
    {
     "data": {
      "text/plain": [
       "- : int list = [2; 3; 4; 5]\n"
      ]
     },
     "execution_count": 18,
     "metadata": {},
     "output_type": "execute_result"
    }
   ],
   "source": [
    "insert (fun x y -> x<y) 3 [2;4;5]"
   ]
  },
  {
   "cell_type": "code",
   "execution_count": 19,
   "metadata": {
    "vscode": {
     "languageId": "ocaml"
    }
   },
   "outputs": [
    {
     "data": {
      "text/plain": [
       "- : int list = [6; 3; 2; 1]\n"
      ]
     },
     "execution_count": 19,
     "metadata": {},
     "output_type": "execute_result"
    }
   ],
   "source": [
    "insert (fun x y -> x > y) 6 [3;2;1]"
   ]
  },
  {
   "cell_type": "code",
   "execution_count": 20,
   "metadata": {
    "vscode": {
     "languageId": "ocaml"
    }
   },
   "outputs": [
    {
     "data": {
      "text/plain": [
       "val tri_insertion : ('a -> 'a -> bool) -> 'a list -> 'a list = <fun>\n"
      ]
     },
     "execution_count": 20,
     "metadata": {},
     "output_type": "execute_result"
    }
   ],
   "source": [
    "(*CONTRAT\n",
    "Fonction qui trie une liste, selon un ordre donné\n",
    "Type : ('a->'a->bool)->'a list -> 'a list\n",
    "Paramètre : ordre  ('a->'a->bool), un ordre sur les éléments de la liste\n",
    "Paramètre : l, la liste à trier\n",
    "Résultat : une liste triée avec les éléments de l\n",
    "*)\n",
    "\n",
    "let rec tri_insertion ordre l = List.fold_right (fun (elt) -> (insert ordre elt)) l []"
   ]
  },
  {
   "cell_type": "code",
   "execution_count": 23,
   "metadata": {
    "vscode": {
     "languageId": "ocaml"
    }
   },
   "outputs": [
    {
     "data": {
      "text/plain": [
       "val tri_insertion : ('a -> 'a -> bool) -> 'a list -> 'a list = <fun>\n"
      ]
     },
     "execution_count": 23,
     "metadata": {},
     "output_type": "execute_result"
    }
   ],
   "source": [
    "(*CONTRAT\n",
    "Fonction qui trie une liste, selon un ordre donné\n",
    "Type : ('a->'a->bool)->'a list -> 'a list\n",
    "Paramètre : ordre  ('a->'a->bool), un ordre sur les éléments de la liste\n",
    "Paramètre : l, la liste à trier\n",
    "Résultat : une liste triée avec les éléments de l\n",
    "*)\n",
    "\n",
    "let rec tri_insertion ordre l = match l with\n",
    "| [] -> []\n",
    "| t::q -> insert ordre t q"
   ]
  },
  {
   "cell_type": "code",
   "execution_count": 44,
   "metadata": {
    "vscode": {
     "languageId": "ocaml"
    }
   },
   "outputs": [
    {
     "data": {
      "text/plain": [
       "val scinde : int list -> int list * int list = <fun>\n"
      ]
     },
     "execution_count": 44,
     "metadata": {},
     "output_type": "execute_result"
    },
    {
     "data": {
      "text/plain": [
       "val scinde : 'a list -> 'a list * 'a list = <fun>\n"
      ]
     },
     "execution_count": 44,
     "metadata": {},
     "output_type": "execute_result"
    }
   ],
   "source": [
    "let rec scinde l = \n",
    "  (\n",
    "    List.filteri (fun i -> (fun i -> (i mod 2)=0)) l,\n",
    "    List.filteri (fun i -> (fun i -> (i mod 2)=1)) l\n",
    "  )\n",
    "\n",
    "let rec scinde l = \n",
    "  match l with\n",
    "  |[] -> [],[]\n",
    "  |[a]->[a],[]\n",
    "  |a::b::q -> let (l1,l2) = scinde q in\n",
    "              (a::l1,b::l2)"
   ]
  },
  {
   "cell_type": "code",
   "execution_count": 45,
   "metadata": {
    "vscode": {
     "languageId": "ocaml"
    }
   },
   "outputs": [
    {
     "data": {
      "text/plain": [
       "- : int list * int list = ([1; 3], [2; 4])\n"
      ]
     },
     "execution_count": 45,
     "metadata": {},
     "output_type": "execute_result"
    }
   ],
   "source": [
    "scinde [1;2;3;4]"
   ]
  },
  {
   "cell_type": "code",
   "execution_count": 46,
   "metadata": {
    "vscode": {
     "languageId": "ocaml"
    }
   },
   "outputs": [
    {
     "data": {
      "text/plain": [
       "- : 'a list = []\n"
      ]
     },
     "execution_count": 46,
     "metadata": {},
     "output_type": "execute_result"
    }
   ],
   "source": [
    "tri_insertion (fun x y -> x<y) []"
   ]
  },
  {
   "cell_type": "code",
   "execution_count": 47,
   "metadata": {
    "vscode": {
     "languageId": "ocaml"
    }
   },
   "outputs": [
    {
     "data": {
      "text/plain": [
       "- : int list = [2; 4; 4; 3; 1]\n"
      ]
     },
     "execution_count": 47,
     "metadata": {},
     "output_type": "execute_result"
    }
   ],
   "source": [
    "tri_insertion (fun x y -> x<y) [4;2;4;3;1]"
   ]
  },
  {
   "cell_type": "code",
   "execution_count": 50,
   "metadata": {
    "vscode": {
     "languageId": "ocaml"
    }
   },
   "outputs": [
    {
     "data": {
      "text/plain": [
       "val fusionne : ('a -> 'a -> bool) -> 'a list -> 'a list -> 'a list = <fun>\n"
      ]
     },
     "execution_count": 50,
     "metadata": {},
     "output_type": "execute_result"
    }
   ],
   "source": [
    "let rec fusionne ordre l1 l2 = \n",
    "  match l1, l2 with\n",
    "  | [], _ -> l2\n",
    "  | _, [] -> l1\n",
    "  | a::q1, b::q2 -> \n",
    "      if (ordre a b) then a::(fusionne ordre q1 l2)\n",
    "      else b::(fusionne ordre q2 l1)"
   ]
  },
  {
   "cell_type": "code",
   "execution_count": 51,
   "metadata": {
    "vscode": {
     "languageId": "ocaml"
    }
   },
   "outputs": [
    {
     "data": {
      "text/plain": [
       "- : int list = [1; 2; 3; 4; 4; 5; 6]\n"
      ]
     },
     "execution_count": 51,
     "metadata": {},
     "output_type": "execute_result"
    }
   ],
   "source": [
    "fusionne (fun x y -> x<y) [1;2;4;5;6] [3;4]"
   ]
  },
  {
   "cell_type": "code",
   "execution_count": null,
   "metadata": {
    "vscode": {
     "languageId": "ocaml"
    }
   },
   "outputs": [],
   "source": []
  }
 ],
 "metadata": {
  "kernelspec": {
   "display_name": "OCaml default",
   "language": "OCaml",
   "name": "ocaml-jupyter"
  },
  "language_info": {
   "codemirror_mode": "text/x-ocaml",
   "file_extension": ".ml",
   "mimetype": "text/x-ocaml",
   "name": "OCaml",
   "nbconverter_exporter": null,
   "pygments_lexer": "OCaml",
   "version": "4.12.0"
  },
  "orig_nbformat": 4
 },
 "nbformat": 4,
 "nbformat_minor": 2
}
